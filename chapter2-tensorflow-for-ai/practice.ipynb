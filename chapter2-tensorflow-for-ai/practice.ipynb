{
 "cells": [
  {
   "cell_type": "code",
   "execution_count": 9,
   "metadata": {},
   "outputs": [
    {
     "data": {
      "text/plain": [
       "<module 'tests' from '/Users/amir.ziai/Dropbox/github/ai-with-tensorflow/chapter2-tensorflow-for-ai/tests.py'>"
      ]
     },
     "execution_count": 9,
     "metadata": {},
     "output_type": "execute_result"
    }
   ],
   "source": [
    "import numpy as np\n",
    "import tensorflow as tf\n",
    "\n",
    "import tests\n",
    "import imp\n",
    "imp.reload(tests)"
   ]
  },
  {
   "cell_type": "code",
   "execution_count": 11,
   "metadata": {},
   "outputs": [
    {
     "data": {
      "text/plain": [
       "'All tests passed'"
      ]
     },
     "execution_count": 11,
     "metadata": {},
     "output_type": "execute_result"
    }
   ],
   "source": [
    "def get_tensor_shape(tensor):\n",
    "    \"\"\"\n",
    "    :param x: first arg\n",
    "    :param x: second arg\n",
    "    :return: sum of x and y\n",
    "    \"\"\"\n",
    "    \n",
    "    shape = tensor.shape\n",
    "    return shape\n",
    "\n",
    "tests.test_get_tensor_shape(get_tensor_shape)"
   ]
  },
  {
   "cell_type": "code",
   "execution_count": null,
   "metadata": {},
   "outputs": [],
   "source": [
    "def get_tensor_rank(tensor):\n",
    "    \"\"\"\n",
    "    :param x: first arg\n",
    "    :param x: second arg\n",
    "    :return: sum of x and y\n",
    "    \"\"\"\n",
    "    \n",
    "    rank_tensor = tf.rank(tensor)\n",
    "    rank_value = tf.Session().run(rank_tensor)\n",
    "    return rank_value\n",
    "\n",
    "tests.test_get_tensor_rank(get_tensor_rank)"
   ]
  },
  {
   "cell_type": "code",
   "execution_count": null,
   "metadata": {},
   "outputs": [],
   "source": []
  },
  {
   "cell_type": "code",
   "execution_count": null,
   "metadata": {},
   "outputs": [],
   "source": []
  },
  {
   "cell_type": "code",
   "execution_count": null,
   "metadata": {},
   "outputs": [],
   "source": []
  },
  {
   "cell_type": "code",
   "execution_count": 2,
   "metadata": {},
   "outputs": [
    {
     "data": {
      "text/plain": [
       "'All tests passed'"
      ]
     },
     "execution_count": 2,
     "metadata": {},
     "output_type": "execute_result"
    }
   ],
   "source": [
    "def add(x, y):\n",
    "    \"\"\"\n",
    "    :param x: first arg\n",
    "    :param x: second arg\n",
    "    :return: sum of x and y\n",
    "    \"\"\"\n",
    "    \n",
    "    return x + y\n",
    "\n",
    "tests.test_add(add)"
   ]
  },
  {
   "cell_type": "code",
   "execution_count": 3,
   "metadata": {},
   "outputs": [
    {
     "data": {
      "text/plain": [
       "'All tests passed'"
      ]
     },
     "execution_count": 3,
     "metadata": {},
     "output_type": "execute_result"
    }
   ],
   "source": [
    "def add_rank0_tensors(x, y):\n",
    "    \"\"\"\n",
    "    :param x: int\n",
    "    :param x: int\n",
    "    :return: sum of x and y\n",
    "    \"\"\"\n",
    "    \n",
    "    tensor_x = tf.constant(x)\n",
    "    tensor_y = tf.constant(y)\n",
    "    tensor_z = tensor_x + tensor_y\n",
    "    return tensor_z\n",
    "\n",
    "tests.test_add_rank0_tensors(add_rank0_tensors)"
   ]
  },
  {
   "cell_type": "code",
   "execution_count": 4,
   "metadata": {},
   "outputs": [
    {
     "data": {
      "text/plain": [
       "'All tests passed'"
      ]
     },
     "execution_count": 4,
     "metadata": {},
     "output_type": "execute_result"
    }
   ],
   "source": [
    "def add_rank1_tensors(x, y):\n",
    "    \"\"\"\n",
    "    :param x: list of ints\n",
    "    :param x: list of ints\n",
    "    :return: sum of x and y\n",
    "    \"\"\"\n",
    "    \n",
    "    tensor_x = tf.constant(x)\n",
    "    tensor_y = tf.constant(y)\n",
    "    tensor_z = tensor_x + tensor_y\n",
    "    return tensor_z\n",
    "\n",
    "tests.test_add_rank1_tensors(add_rank1_tensors)"
   ]
  },
  {
   "cell_type": "code",
   "execution_count": 5,
   "metadata": {},
   "outputs": [
    {
     "ename": "TypeError",
     "evalue": "tensordot() got an unexpected keyword argument 'axis'",
     "output_type": "error",
     "traceback": [
      "\u001b[0;31m---------------------------------------------------------------------------\u001b[0m",
      "\u001b[0;31mTypeError\u001b[0m                                 Traceback (most recent call last)",
      "\u001b[0;32m<ipython-input-5-accf2f7be1dd>\u001b[0m in \u001b[0;36m<module>\u001b[0;34m()\u001b[0m\n\u001b[0;32m----> 1\u001b[0;31m \u001b[0mtf\u001b[0m\u001b[0;34m.\u001b[0m\u001b[0mtensordot\u001b[0m\u001b[0;34m(\u001b[0m\u001b[0mtf\u001b[0m\u001b[0;34m.\u001b[0m\u001b[0mconstant\u001b[0m\u001b[0;34m(\u001b[0m\u001b[0;34m[\u001b[0m\u001b[0;36m1\u001b[0m\u001b[0;34m,\u001b[0m\u001b[0;36m2\u001b[0m\u001b[0;34m,\u001b[0m\u001b[0;36m3\u001b[0m\u001b[0;34m]\u001b[0m\u001b[0;34m)\u001b[0m\u001b[0;34m,\u001b[0m \u001b[0mtf\u001b[0m\u001b[0;34m.\u001b[0m\u001b[0mconstant\u001b[0m\u001b[0;34m(\u001b[0m\u001b[0;34m[\u001b[0m\u001b[0;36m1\u001b[0m\u001b[0;34m,\u001b[0m\u001b[0;36m2\u001b[0m\u001b[0;34m,\u001b[0m\u001b[0;36m3\u001b[0m\u001b[0;34m]\u001b[0m\u001b[0;34m)\u001b[0m\u001b[0;34m,\u001b[0m \u001b[0maxis\u001b[0m\u001b[0;34m=\u001b[0m\u001b[0;34m[\u001b[0m\u001b[0;34m[\u001b[0m\u001b[0;36m1\u001b[0m\u001b[0;34m]\u001b[0m\u001b[0;34m,\u001b[0m \u001b[0;34m[\u001b[0m\u001b[0;36m0\u001b[0m\u001b[0;34m]\u001b[0m\u001b[0;34m]\u001b[0m\u001b[0;34m)\u001b[0m\u001b[0;34m\u001b[0m\u001b[0m\n\u001b[0m",
      "\u001b[0;31mTypeError\u001b[0m: tensordot() got an unexpected keyword argument 'axis'"
     ]
    }
   ],
   "source": [
    "tf.tensordot(tf.constant([1,2,3]), tf.constant([1,2,3]), axis=[[1], [0]])"
   ]
  },
  {
   "cell_type": "code",
   "execution_count": 2,
   "metadata": {},
   "outputs": [
    {
     "data": {
      "text/plain": [
       "'All tests passed'"
      ]
     },
     "execution_count": 2,
     "metadata": {},
     "output_type": "execute_result"
    }
   ],
   "source": [
    "def create_constant_tensor(value, m, n):\n",
    "    \"\"\"\n",
    "    :param x: list of ints\n",
    "    :param x: list of ints\n",
    "    :return: sum of x and y\n",
    "    \"\"\"\n",
    "    tensor = tf.constant(value, shape=[m, n])\n",
    "    return tensor\n",
    "\n",
    "tests.test_create_constant_tensor(create_constant_tensor)"
   ]
  },
  {
   "cell_type": "code",
   "execution_count": null,
   "metadata": {},
   "outputs": [],
   "source": []
  }
 ],
 "metadata": {
  "anaconda-cloud": {},
  "kernelspec": {
   "display_name": "Python [default]",
   "language": "python",
   "name": "python3"
  },
  "language_info": {
   "codemirror_mode": {
    "name": "ipython",
    "version": 3
   },
   "file_extension": ".py",
   "mimetype": "text/x-python",
   "name": "python",
   "nbconvert_exporter": "python",
   "pygments_lexer": "ipython3",
   "version": "3.5.4"
  }
 },
 "nbformat": 4,
 "nbformat_minor": 2
}
