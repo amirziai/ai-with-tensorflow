{
 "cells": [
  {
   "cell_type": "markdown",
   "metadata": {},
   "source": [
    "# TensorFlow for AI"
   ]
  },
  {
   "cell_type": "markdown",
   "metadata": {},
   "source": [
    "- Initial steps\n",
    "- Basics\n",
    "- The Computation Graph   \n",
    "- Activation Functions\n",
    "- Initialization \n",
    "- Optimization\n",
    "- Feature Overview\n",
    "- TensorBoard\n",
    "- TensorFlow Serving\n",
    "- TFLearn\n",
    "- Distributed TensorFlow \n",
    "- TensorFlow on Android \n",
    "- Solving PDE’s\n",
    "- Other worked examples\n",
    "- Future Roadmap \n",
    "- Keras Integration"
   ]
  },
  {
   "cell_type": "markdown",
   "metadata": {},
   "source": [
    "### TensorFlow\n",
    "- why tf?\n",
    "- span of tasks\n",
    "- alternatives? refer to appendix A\n",
    "- HW agnostic (refer to chapter 9)\n",
    "- C++/Python interface\n",
    "- Single and cluster mode (more about this later in this chapter)\n",
    "- XLA/compiler/optimizations\n",
    "- Community: latest papers, methods, architectures built + Google resources\n",
    "\n",
    "### Motivating example\n",
    "- classify X, logistic regression, minimal ML jargon\n",
    "- work through the code\n",
    "\n",
    "### Tensors\n",
    "- what are tensors\n",
    "- examples\n",
    "\n",
    "### The Computation Graph\n",
    "- why use a graph?\n",
    "- how to construct a graph\n",
    "- nodes and edges\n",
    "- operations\n",
    "- sessions, graphs, run, fetch\n",
    "\n",
    "### Wrappers\n",
    "- TFLearn\n",
    "- skflow\n",
    "- keras"
   ]
  },
  {
   "cell_type": "code",
   "execution_count": null,
   "metadata": {},
   "outputs": [],
   "source": []
  }
 ],
 "metadata": {
  "anaconda-cloud": {},
  "kernelspec": {
   "display_name": "Python [default]",
   "language": "python",
   "name": "python3"
  },
  "language_info": {
   "codemirror_mode": {
    "name": "ipython",
    "version": 3
   },
   "file_extension": ".py",
   "mimetype": "text/x-python",
   "name": "python",
   "nbconvert_exporter": "python",
   "pygments_lexer": "ipython3",
   "version": "3.5.4"
  }
 },
 "nbformat": 4,
 "nbformat_minor": 2
}
