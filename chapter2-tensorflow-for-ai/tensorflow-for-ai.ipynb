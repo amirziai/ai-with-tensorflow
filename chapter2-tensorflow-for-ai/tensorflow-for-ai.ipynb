{
 "cells": [
  {
   "cell_type": "markdown",
   "metadata": {},
   "source": [
    "# TensorFlow for Artificial Intelligence"
   ]
  },
  {
   "cell_type": "markdown",
   "metadata": {},
   "source": [
    "- Initial steps\n",
    "- Basics\n",
    "- The Computation Graph   \n",
    "- Activation Functions\n",
    "- Initialization \n",
    "- Optimization\n",
    "- Feature Overview\n",
    "- TensorBoard\n",
    "- TensorFlow Serving\n",
    "- TFLearn\n",
    "- Distributed TensorFlow \n",
    "- TensorFlow on Android \n",
    "- Solving PDE’s\n",
    "- Other worked examples\n",
    "- Future Roadmap \n",
    "- Keras Integration"
   ]
  },
  {
   "cell_type": "code",
   "execution_count": 1,
   "metadata": {},
   "outputs": [],
   "source": [
    "import tensorflow as tf"
   ]
  },
  {
   "cell_type": "code",
   "execution_count": 2,
   "metadata": {},
   "outputs": [
    {
     "data": {
      "text/plain": [
       "'1.4.0'"
      ]
     },
     "execution_count": 2,
     "metadata": {},
     "output_type": "execute_result"
    }
   ],
   "source": [
    "tf.__version__"
   ]
  },
  {
   "cell_type": "code",
   "execution_count": 15,
   "metadata": {},
   "outputs": [],
   "source": [
    "# TODO: does this initialize variables?\n",
    "sess = tf.InteractiveSession()"
   ]
  },
  {
   "cell_type": "code",
   "execution_count": 14,
   "metadata": {},
   "outputs": [
    {
     "name": "stdout",
     "output_type": "stream",
     "text": [
      "Tensor(\"Const_12:0\", shape=(), dtype=int32)\n",
      "<dtype: 'int32'>\n",
      "()\n",
      "()\n",
      "<tensorflow.python.framework.ops.Graph object at 0x11dac7668>\n",
      "\n",
      "0\n"
     ]
    }
   ],
   "source": [
    "a = tf.constant(0)\n",
    "with tf.Session() as sess:\n",
    "    sess.run(a)\n",
    "    print(a)\n",
    "    print(a.dtype)\n",
    "    print(a.shape)\n",
    "    print(a.get_shape())\n",
    "    print(a.graph)\n",
    "    print(a.device)\n",
    "    print(a.eval())"
   ]
  },
  {
   "cell_type": "code",
   "execution_count": 16,
   "metadata": {},
   "outputs": [],
   "source": [
    "b = tf.constant(1)"
   ]
  },
  {
   "cell_type": "code",
   "execution_count": 27,
   "metadata": {},
   "outputs": [
    {
     "data": {
      "text/plain": [
       "1"
      ]
     },
     "execution_count": 27,
     "metadata": {},
     "output_type": "execute_result"
    }
   ],
   "source": [
    "c = a + b\n",
    "c.eval()"
   ]
  },
  {
   "cell_type": "code",
   "execution_count": 26,
   "metadata": {},
   "outputs": [
    {
     "name": "stdout",
     "output_type": "stream",
     "text": [
      "1\n"
     ]
    }
   ],
   "source": [
    "with tf.Session() as sess:\n",
    "    c = sess.run(a + b)\n",
    "    print(c)"
   ]
  },
  {
   "cell_type": "code",
   "execution_count": 29,
   "metadata": {},
   "outputs": [
    {
     "data": {
      "text/plain": [
       "<tf.Tensor 'Mul:0' shape=() dtype=int32>"
      ]
     },
     "execution_count": 29,
     "metadata": {},
     "output_type": "execute_result"
    }
   ],
   "source": [
    "d = tf.multiply(a, b)\n",
    "d"
   ]
  },
  {
   "cell_type": "code",
   "execution_count": 30,
   "metadata": {},
   "outputs": [
    {
     "data": {
      "text/plain": [
       "0"
      ]
     },
     "execution_count": 30,
     "metadata": {},
     "output_type": "execute_result"
    }
   ],
   "source": [
    "d.eval()"
   ]
  },
  {
   "cell_type": "code",
   "execution_count": 33,
   "metadata": {},
   "outputs": [],
   "source": [
    "x = tf.random_uniform(\n",
    "                                 [10, 3],\n",
    "                                 minval=0,\n",
    "                                 maxval=100,\n",
    "                                 dtype=tf.int32\n",
    "                             )"
   ]
  },
  {
   "cell_type": "code",
   "execution_count": 34,
   "metadata": {},
   "outputs": [
    {
     "data": {
      "text/plain": [
       "<tf.Tensor 'random_uniform_1:0' shape=(10, 3) dtype=int32>"
      ]
     },
     "execution_count": 34,
     "metadata": {},
     "output_type": "execute_result"
    }
   ],
   "source": [
    "x"
   ]
  },
  {
   "cell_type": "code",
   "execution_count": 35,
   "metadata": {},
   "outputs": [
    {
     "ename": "TypeError",
     "evalue": "__init__() got an unexpected keyword argument 'initializer'",
     "output_type": "error",
     "traceback": [
      "\u001b[0;31m---------------------------------------------------------------------------\u001b[0m",
      "\u001b[0;31mTypeError\u001b[0m                                 Traceback (most recent call last)",
      "\u001b[0;32m<ipython-input-35-bb836920c1cb>\u001b[0m in \u001b[0;36m<module>\u001b[0;34m()\u001b[0m\n\u001b[1;32m      1\u001b[0m \u001b[0;31m# variables\u001b[0m\u001b[0;34m\u001b[0m\u001b[0;34m\u001b[0m\u001b[0m\n\u001b[0;32m----> 2\u001b[0;31m \u001b[0mrandom_uniform\u001b[0m \u001b[0;34m=\u001b[0m \u001b[0mtf\u001b[0m\u001b[0;34m.\u001b[0m\u001b[0mVariable\u001b[0m\u001b[0;34m(\u001b[0m\u001b[0;34m'random_int'\u001b[0m\u001b[0;34m,\u001b[0m \u001b[0minitializer\u001b[0m\u001b[0;34m=\u001b[0m\u001b[0mx\u001b[0m\u001b[0;34m)\u001b[0m\u001b[0;34m\u001b[0m\u001b[0m\n\u001b[0m",
      "\u001b[0;31mTypeError\u001b[0m: __init__() got an unexpected keyword argument 'initializer'"
     ]
    }
   ],
   "source": [
    "# variables\n",
    "random_uniform = tf.Variable('random_int', initializer=x)"
   ]
  },
  {
   "cell_type": "code",
   "execution_count": 38,
   "metadata": {},
   "outputs": [],
   "source": [
    "random_int = tf.get_variable('random_int2', initializer=x)\n",
    "\n",
    "# get_variable vs. Variable???\n",
    "# get_variable_scope?"
   ]
  },
  {
   "cell_type": "code",
   "execution_count": 40,
   "metadata": {},
   "outputs": [
    {
     "ename": "ValueError",
     "evalue": "Variable random_int2 already exists, disallowed. Did you mean to set reuse=True or reuse=tf.AUTO_REUSE in VarScope? Originally defined at:\n\n  File \"<ipython-input-38-0808dd804b14>\", line 1, in <module>\n    random_int = tf.get_variable('random_int2', initializer=x)\n  File \"/Users/amir.ziai/anaconda/lib/python3.5/site-packages/IPython/core/interactiveshell.py\", line 2885, in run_code\n    exec(code_obj, self.user_global_ns, self.user_ns)\n  File \"/Users/amir.ziai/anaconda/lib/python3.5/site-packages/IPython/core/interactiveshell.py\", line 2825, in run_ast_nodes\n    if self.run_code(code, result):\n",
     "output_type": "error",
     "traceback": [
      "\u001b[0;31m---------------------------------------------------------------------------\u001b[0m",
      "\u001b[0;31mValueError\u001b[0m                                Traceback (most recent call last)",
      "\u001b[0;32m<ipython-input-40-e531c6d9cadd>\u001b[0m in \u001b[0;36m<module>\u001b[0;34m()\u001b[0m\n\u001b[1;32m      1\u001b[0m \u001b[0;31m# ValueError: Variable random_int2 already exists, disallowed. Did you mean to set reuse=True or reuse=tf.AUTO_REUSE in VarScope? Originally defined\u001b[0m\u001b[0;34m\u001b[0m\u001b[0;34m\u001b[0m\u001b[0m\n\u001b[0;32m----> 2\u001b[0;31m \u001b[0mrandom_int\u001b[0m \u001b[0;34m=\u001b[0m \u001b[0mtf\u001b[0m\u001b[0;34m.\u001b[0m\u001b[0mget_variable\u001b[0m\u001b[0;34m(\u001b[0m\u001b[0;34m'random_int2'\u001b[0m\u001b[0;34m,\u001b[0m \u001b[0minitializer\u001b[0m\u001b[0;34m=\u001b[0m\u001b[0mx\u001b[0m\u001b[0;34m)\u001b[0m\u001b[0;34m\u001b[0m\u001b[0m\n\u001b[0m",
      "\u001b[0;32m/Users/amir.ziai/anaconda/lib/python3.5/site-packages/tensorflow/python/ops/variable_scope.py\u001b[0m in \u001b[0;36mget_variable\u001b[0;34m(name, shape, dtype, initializer, regularizer, trainable, collections, caching_device, partitioner, validate_shape, use_resource, custom_getter, constraint)\u001b[0m\n\u001b[1;32m   1201\u001b[0m       \u001b[0mpartitioner\u001b[0m\u001b[0;34m=\u001b[0m\u001b[0mpartitioner\u001b[0m\u001b[0;34m,\u001b[0m \u001b[0mvalidate_shape\u001b[0m\u001b[0;34m=\u001b[0m\u001b[0mvalidate_shape\u001b[0m\u001b[0;34m,\u001b[0m\u001b[0;34m\u001b[0m\u001b[0m\n\u001b[1;32m   1202\u001b[0m       \u001b[0muse_resource\u001b[0m\u001b[0;34m=\u001b[0m\u001b[0muse_resource\u001b[0m\u001b[0;34m,\u001b[0m \u001b[0mcustom_getter\u001b[0m\u001b[0;34m=\u001b[0m\u001b[0mcustom_getter\u001b[0m\u001b[0;34m,\u001b[0m\u001b[0;34m\u001b[0m\u001b[0m\n\u001b[0;32m-> 1203\u001b[0;31m       constraint=constraint)\n\u001b[0m\u001b[1;32m   1204\u001b[0m get_variable_or_local_docstring = (\n\u001b[1;32m   1205\u001b[0m     \"\"\"%s\n",
      "\u001b[0;32m/Users/amir.ziai/anaconda/lib/python3.5/site-packages/tensorflow/python/ops/variable_scope.py\u001b[0m in \u001b[0;36mget_variable\u001b[0;34m(self, var_store, name, shape, dtype, initializer, regularizer, reuse, trainable, collections, caching_device, partitioner, validate_shape, use_resource, custom_getter, constraint)\u001b[0m\n\u001b[1;32m   1090\u001b[0m           \u001b[0mpartitioner\u001b[0m\u001b[0;34m=\u001b[0m\u001b[0mpartitioner\u001b[0m\u001b[0;34m,\u001b[0m \u001b[0mvalidate_shape\u001b[0m\u001b[0;34m=\u001b[0m\u001b[0mvalidate_shape\u001b[0m\u001b[0;34m,\u001b[0m\u001b[0;34m\u001b[0m\u001b[0m\n\u001b[1;32m   1091\u001b[0m           \u001b[0muse_resource\u001b[0m\u001b[0;34m=\u001b[0m\u001b[0muse_resource\u001b[0m\u001b[0;34m,\u001b[0m \u001b[0mcustom_getter\u001b[0m\u001b[0;34m=\u001b[0m\u001b[0mcustom_getter\u001b[0m\u001b[0;34m,\u001b[0m\u001b[0;34m\u001b[0m\u001b[0m\n\u001b[0;32m-> 1092\u001b[0;31m           constraint=constraint)\n\u001b[0m\u001b[1;32m   1093\u001b[0m \u001b[0;34m\u001b[0m\u001b[0m\n\u001b[1;32m   1094\u001b[0m   def _get_partitioned_variable(self,\n",
      "\u001b[0;32m/Users/amir.ziai/anaconda/lib/python3.5/site-packages/tensorflow/python/ops/variable_scope.py\u001b[0m in \u001b[0;36mget_variable\u001b[0;34m(self, name, shape, dtype, initializer, regularizer, reuse, trainable, collections, caching_device, partitioner, validate_shape, use_resource, custom_getter, constraint)\u001b[0m\n\u001b[1;32m    423\u001b[0m           \u001b[0mcaching_device\u001b[0m\u001b[0;34m=\u001b[0m\u001b[0mcaching_device\u001b[0m\u001b[0;34m,\u001b[0m \u001b[0mpartitioner\u001b[0m\u001b[0;34m=\u001b[0m\u001b[0mpartitioner\u001b[0m\u001b[0;34m,\u001b[0m\u001b[0;34m\u001b[0m\u001b[0m\n\u001b[1;32m    424\u001b[0m           \u001b[0mvalidate_shape\u001b[0m\u001b[0;34m=\u001b[0m\u001b[0mvalidate_shape\u001b[0m\u001b[0;34m,\u001b[0m \u001b[0muse_resource\u001b[0m\u001b[0;34m=\u001b[0m\u001b[0muse_resource\u001b[0m\u001b[0;34m,\u001b[0m\u001b[0;34m\u001b[0m\u001b[0m\n\u001b[0;32m--> 425\u001b[0;31m           constraint=constraint)\n\u001b[0m\u001b[1;32m    426\u001b[0m \u001b[0;34m\u001b[0m\u001b[0m\n\u001b[1;32m    427\u001b[0m   def _get_partitioned_variable(\n",
      "\u001b[0;32m/Users/amir.ziai/anaconda/lib/python3.5/site-packages/tensorflow/python/ops/variable_scope.py\u001b[0m in \u001b[0;36m_true_getter\u001b[0;34m(name, shape, dtype, initializer, regularizer, reuse, trainable, collections, caching_device, partitioner, validate_shape, use_resource, constraint)\u001b[0m\n\u001b[1;32m    392\u001b[0m           \u001b[0mtrainable\u001b[0m\u001b[0;34m=\u001b[0m\u001b[0mtrainable\u001b[0m\u001b[0;34m,\u001b[0m \u001b[0mcollections\u001b[0m\u001b[0;34m=\u001b[0m\u001b[0mcollections\u001b[0m\u001b[0;34m,\u001b[0m\u001b[0;34m\u001b[0m\u001b[0m\n\u001b[1;32m    393\u001b[0m           \u001b[0mcaching_device\u001b[0m\u001b[0;34m=\u001b[0m\u001b[0mcaching_device\u001b[0m\u001b[0;34m,\u001b[0m \u001b[0mvalidate_shape\u001b[0m\u001b[0;34m=\u001b[0m\u001b[0mvalidate_shape\u001b[0m\u001b[0;34m,\u001b[0m\u001b[0;34m\u001b[0m\u001b[0m\n\u001b[0;32m--> 394\u001b[0;31m           use_resource=use_resource, constraint=constraint)\n\u001b[0m\u001b[1;32m    395\u001b[0m \u001b[0;34m\u001b[0m\u001b[0m\n\u001b[1;32m    396\u001b[0m     \u001b[0;32mif\u001b[0m \u001b[0mcustom_getter\u001b[0m \u001b[0;32mis\u001b[0m \u001b[0;32mnot\u001b[0m \u001b[0;32mNone\u001b[0m\u001b[0;34m:\u001b[0m\u001b[0;34m\u001b[0m\u001b[0m\n",
      "\u001b[0;32m/Users/amir.ziai/anaconda/lib/python3.5/site-packages/tensorflow/python/ops/variable_scope.py\u001b[0m in \u001b[0;36m_get_single_variable\u001b[0;34m(self, name, shape, dtype, initializer, regularizer, partition_info, reuse, trainable, collections, caching_device, validate_shape, use_resource, constraint)\u001b[0m\n\u001b[1;32m    740\u001b[0m                          \u001b[0;34m\"reuse=tf.AUTO_REUSE in VarScope? \"\u001b[0m\u001b[0;34m\u001b[0m\u001b[0m\n\u001b[1;32m    741\u001b[0m                          \"Originally defined at:\\n\\n%s\" % (\n\u001b[0;32m--> 742\u001b[0;31m                              name, \"\".join(traceback.format_list(tb))))\n\u001b[0m\u001b[1;32m    743\u001b[0m       \u001b[0mfound_var\u001b[0m \u001b[0;34m=\u001b[0m \u001b[0mself\u001b[0m\u001b[0;34m.\u001b[0m\u001b[0m_vars\u001b[0m\u001b[0;34m[\u001b[0m\u001b[0mname\u001b[0m\u001b[0;34m]\u001b[0m\u001b[0;34m\u001b[0m\u001b[0m\n\u001b[1;32m    744\u001b[0m       \u001b[0;32mif\u001b[0m \u001b[0;32mnot\u001b[0m \u001b[0mshape\u001b[0m\u001b[0;34m.\u001b[0m\u001b[0mis_compatible_with\u001b[0m\u001b[0;34m(\u001b[0m\u001b[0mfound_var\u001b[0m\u001b[0;34m.\u001b[0m\u001b[0mget_shape\u001b[0m\u001b[0;34m(\u001b[0m\u001b[0;34m)\u001b[0m\u001b[0;34m)\u001b[0m\u001b[0;34m:\u001b[0m\u001b[0;34m\u001b[0m\u001b[0m\n",
      "\u001b[0;31mValueError\u001b[0m: Variable random_int2 already exists, disallowed. Did you mean to set reuse=True or reuse=tf.AUTO_REUSE in VarScope? Originally defined at:\n\n  File \"<ipython-input-38-0808dd804b14>\", line 1, in <module>\n    random_int = tf.get_variable('random_int2', initializer=x)\n  File \"/Users/amir.ziai/anaconda/lib/python3.5/site-packages/IPython/core/interactiveshell.py\", line 2885, in run_code\n    exec(code_obj, self.user_global_ns, self.user_ns)\n  File \"/Users/amir.ziai/anaconda/lib/python3.5/site-packages/IPython/core/interactiveshell.py\", line 2825, in run_ast_nodes\n    if self.run_code(code, result):\n"
     ]
    }
   ],
   "source": [
    "# ValueError: Variable random_int2 already exists, disallowed. Did you mean to set reuse=True or reuse=tf.AUTO_REUSE in VarScope? Originally defined\n",
    "random_int = tf.get_variable('random_int2', initializer=x)"
   ]
  },
  {
   "cell_type": "code",
   "execution_count": 43,
   "metadata": {},
   "outputs": [
    {
     "data": {
      "text/plain": [
       "array([[71, 17, 43],\n",
       "       [90, 38, 11],\n",
       "       [40, 64, 96],\n",
       "       [71, 75,  4],\n",
       "       [46,  5, 17],\n",
       "       [42, 28, 45],\n",
       "       [41, 90, 68],\n",
       "       [56, 12, 74],\n",
       "       [85, 74, 84],\n",
       "       [49, 68, 75]], dtype=int32)"
      ]
     },
     "execution_count": 43,
     "metadata": {},
     "output_type": "execute_result"
    }
   ],
   "source": [
    "x.eval()"
   ]
  },
  {
   "cell_type": "code",
   "execution_count": 44,
   "metadata": {},
   "outputs": [],
   "source": [
    "x1 = tf.random_uniform([10, 3], minval=0, maxval=100, dtype=tf.int32, seed=0)"
   ]
  },
  {
   "cell_type": "code",
   "execution_count": 54,
   "metadata": {},
   "outputs": [],
   "source": [
    "tf.AUTO_REUSE = True"
   ]
  },
  {
   "cell_type": "code",
   "execution_count": 55,
   "metadata": {},
   "outputs": [
    {
     "data": {
      "text/plain": [
       "True"
      ]
     },
     "execution_count": 55,
     "metadata": {},
     "output_type": "execute_result"
    }
   ],
   "source": [
    "tf.AUTO_REUSE"
   ]
  },
  {
   "cell_type": "code",
   "execution_count": 52,
   "metadata": {},
   "outputs": [
    {
     "ename": "ValueError",
     "evalue": "Variable random_int2 already exists, disallowed. Did you mean to set reuse=True or reuse=tf.AUTO_REUSE in VarScope? Originally defined at:\n\n  File \"<ipython-input-38-0808dd804b14>\", line 1, in <module>\n    random_int = tf.get_variable('random_int2', initializer=x)\n  File \"/Users/amir.ziai/anaconda/lib/python3.5/site-packages/IPython/core/interactiveshell.py\", line 2885, in run_code\n    exec(code_obj, self.user_global_ns, self.user_ns)\n  File \"/Users/amir.ziai/anaconda/lib/python3.5/site-packages/IPython/core/interactiveshell.py\", line 2825, in run_ast_nodes\n    if self.run_code(code, result):\n",
     "output_type": "error",
     "traceback": [
      "\u001b[0;31m---------------------------------------------------------------------------\u001b[0m",
      "\u001b[0;31mValueError\u001b[0m                                Traceback (most recent call last)",
      "\u001b[0;32m<ipython-input-52-42a4b7b96d81>\u001b[0m in \u001b[0;36m<module>\u001b[0;34m()\u001b[0m\n\u001b[0;32m----> 1\u001b[0;31m \u001b[0mrandom_int\u001b[0m \u001b[0;34m=\u001b[0m \u001b[0mtf\u001b[0m\u001b[0;34m.\u001b[0m\u001b[0mget_variable\u001b[0m\u001b[0;34m(\u001b[0m\u001b[0;34m'random_int2'\u001b[0m\u001b[0;34m,\u001b[0m \u001b[0minitializer\u001b[0m\u001b[0;34m=\u001b[0m\u001b[0mx1\u001b[0m\u001b[0;34m)\u001b[0m\u001b[0;34m\u001b[0m\u001b[0m\n\u001b[0m",
      "\u001b[0;32m/Users/amir.ziai/anaconda/lib/python3.5/site-packages/tensorflow/python/ops/variable_scope.py\u001b[0m in \u001b[0;36mget_variable\u001b[0;34m(name, shape, dtype, initializer, regularizer, trainable, collections, caching_device, partitioner, validate_shape, use_resource, custom_getter, constraint)\u001b[0m\n\u001b[1;32m   1201\u001b[0m       \u001b[0mpartitioner\u001b[0m\u001b[0;34m=\u001b[0m\u001b[0mpartitioner\u001b[0m\u001b[0;34m,\u001b[0m \u001b[0mvalidate_shape\u001b[0m\u001b[0;34m=\u001b[0m\u001b[0mvalidate_shape\u001b[0m\u001b[0;34m,\u001b[0m\u001b[0;34m\u001b[0m\u001b[0m\n\u001b[1;32m   1202\u001b[0m       \u001b[0muse_resource\u001b[0m\u001b[0;34m=\u001b[0m\u001b[0muse_resource\u001b[0m\u001b[0;34m,\u001b[0m \u001b[0mcustom_getter\u001b[0m\u001b[0;34m=\u001b[0m\u001b[0mcustom_getter\u001b[0m\u001b[0;34m,\u001b[0m\u001b[0;34m\u001b[0m\u001b[0m\n\u001b[0;32m-> 1203\u001b[0;31m       constraint=constraint)\n\u001b[0m\u001b[1;32m   1204\u001b[0m get_variable_or_local_docstring = (\n\u001b[1;32m   1205\u001b[0m     \"\"\"%s\n",
      "\u001b[0;32m/Users/amir.ziai/anaconda/lib/python3.5/site-packages/tensorflow/python/ops/variable_scope.py\u001b[0m in \u001b[0;36mget_variable\u001b[0;34m(self, var_store, name, shape, dtype, initializer, regularizer, reuse, trainable, collections, caching_device, partitioner, validate_shape, use_resource, custom_getter, constraint)\u001b[0m\n\u001b[1;32m   1090\u001b[0m           \u001b[0mpartitioner\u001b[0m\u001b[0;34m=\u001b[0m\u001b[0mpartitioner\u001b[0m\u001b[0;34m,\u001b[0m \u001b[0mvalidate_shape\u001b[0m\u001b[0;34m=\u001b[0m\u001b[0mvalidate_shape\u001b[0m\u001b[0;34m,\u001b[0m\u001b[0;34m\u001b[0m\u001b[0m\n\u001b[1;32m   1091\u001b[0m           \u001b[0muse_resource\u001b[0m\u001b[0;34m=\u001b[0m\u001b[0muse_resource\u001b[0m\u001b[0;34m,\u001b[0m \u001b[0mcustom_getter\u001b[0m\u001b[0;34m=\u001b[0m\u001b[0mcustom_getter\u001b[0m\u001b[0;34m,\u001b[0m\u001b[0;34m\u001b[0m\u001b[0m\n\u001b[0;32m-> 1092\u001b[0;31m           constraint=constraint)\n\u001b[0m\u001b[1;32m   1093\u001b[0m \u001b[0;34m\u001b[0m\u001b[0m\n\u001b[1;32m   1094\u001b[0m   def _get_partitioned_variable(self,\n",
      "\u001b[0;32m/Users/amir.ziai/anaconda/lib/python3.5/site-packages/tensorflow/python/ops/variable_scope.py\u001b[0m in \u001b[0;36mget_variable\u001b[0;34m(self, name, shape, dtype, initializer, regularizer, reuse, trainable, collections, caching_device, partitioner, validate_shape, use_resource, custom_getter, constraint)\u001b[0m\n\u001b[1;32m    423\u001b[0m           \u001b[0mcaching_device\u001b[0m\u001b[0;34m=\u001b[0m\u001b[0mcaching_device\u001b[0m\u001b[0;34m,\u001b[0m \u001b[0mpartitioner\u001b[0m\u001b[0;34m=\u001b[0m\u001b[0mpartitioner\u001b[0m\u001b[0;34m,\u001b[0m\u001b[0;34m\u001b[0m\u001b[0m\n\u001b[1;32m    424\u001b[0m           \u001b[0mvalidate_shape\u001b[0m\u001b[0;34m=\u001b[0m\u001b[0mvalidate_shape\u001b[0m\u001b[0;34m,\u001b[0m \u001b[0muse_resource\u001b[0m\u001b[0;34m=\u001b[0m\u001b[0muse_resource\u001b[0m\u001b[0;34m,\u001b[0m\u001b[0;34m\u001b[0m\u001b[0m\n\u001b[0;32m--> 425\u001b[0;31m           constraint=constraint)\n\u001b[0m\u001b[1;32m    426\u001b[0m \u001b[0;34m\u001b[0m\u001b[0m\n\u001b[1;32m    427\u001b[0m   def _get_partitioned_variable(\n",
      "\u001b[0;32m/Users/amir.ziai/anaconda/lib/python3.5/site-packages/tensorflow/python/ops/variable_scope.py\u001b[0m in \u001b[0;36m_true_getter\u001b[0;34m(name, shape, dtype, initializer, regularizer, reuse, trainable, collections, caching_device, partitioner, validate_shape, use_resource, constraint)\u001b[0m\n\u001b[1;32m    392\u001b[0m           \u001b[0mtrainable\u001b[0m\u001b[0;34m=\u001b[0m\u001b[0mtrainable\u001b[0m\u001b[0;34m,\u001b[0m \u001b[0mcollections\u001b[0m\u001b[0;34m=\u001b[0m\u001b[0mcollections\u001b[0m\u001b[0;34m,\u001b[0m\u001b[0;34m\u001b[0m\u001b[0m\n\u001b[1;32m    393\u001b[0m           \u001b[0mcaching_device\u001b[0m\u001b[0;34m=\u001b[0m\u001b[0mcaching_device\u001b[0m\u001b[0;34m,\u001b[0m \u001b[0mvalidate_shape\u001b[0m\u001b[0;34m=\u001b[0m\u001b[0mvalidate_shape\u001b[0m\u001b[0;34m,\u001b[0m\u001b[0;34m\u001b[0m\u001b[0m\n\u001b[0;32m--> 394\u001b[0;31m           use_resource=use_resource, constraint=constraint)\n\u001b[0m\u001b[1;32m    395\u001b[0m \u001b[0;34m\u001b[0m\u001b[0m\n\u001b[1;32m    396\u001b[0m     \u001b[0;32mif\u001b[0m \u001b[0mcustom_getter\u001b[0m \u001b[0;32mis\u001b[0m \u001b[0;32mnot\u001b[0m \u001b[0;32mNone\u001b[0m\u001b[0;34m:\u001b[0m\u001b[0;34m\u001b[0m\u001b[0m\n",
      "\u001b[0;32m/Users/amir.ziai/anaconda/lib/python3.5/site-packages/tensorflow/python/ops/variable_scope.py\u001b[0m in \u001b[0;36m_get_single_variable\u001b[0;34m(self, name, shape, dtype, initializer, regularizer, partition_info, reuse, trainable, collections, caching_device, validate_shape, use_resource, constraint)\u001b[0m\n\u001b[1;32m    740\u001b[0m                          \u001b[0;34m\"reuse=tf.AUTO_REUSE in VarScope? \"\u001b[0m\u001b[0;34m\u001b[0m\u001b[0m\n\u001b[1;32m    741\u001b[0m                          \"Originally defined at:\\n\\n%s\" % (\n\u001b[0;32m--> 742\u001b[0;31m                              name, \"\".join(traceback.format_list(tb))))\n\u001b[0m\u001b[1;32m    743\u001b[0m       \u001b[0mfound_var\u001b[0m \u001b[0;34m=\u001b[0m \u001b[0mself\u001b[0m\u001b[0;34m.\u001b[0m\u001b[0m_vars\u001b[0m\u001b[0;34m[\u001b[0m\u001b[0mname\u001b[0m\u001b[0;34m]\u001b[0m\u001b[0;34m\u001b[0m\u001b[0m\n\u001b[1;32m    744\u001b[0m       \u001b[0;32mif\u001b[0m \u001b[0;32mnot\u001b[0m \u001b[0mshape\u001b[0m\u001b[0;34m.\u001b[0m\u001b[0mis_compatible_with\u001b[0m\u001b[0;34m(\u001b[0m\u001b[0mfound_var\u001b[0m\u001b[0;34m.\u001b[0m\u001b[0mget_shape\u001b[0m\u001b[0;34m(\u001b[0m\u001b[0;34m)\u001b[0m\u001b[0;34m)\u001b[0m\u001b[0;34m:\u001b[0m\u001b[0;34m\u001b[0m\u001b[0m\n",
      "\u001b[0;31mValueError\u001b[0m: Variable random_int2 already exists, disallowed. Did you mean to set reuse=True or reuse=tf.AUTO_REUSE in VarScope? Originally defined at:\n\n  File \"<ipython-input-38-0808dd804b14>\", line 1, in <module>\n    random_int = tf.get_variable('random_int2', initializer=x)\n  File \"/Users/amir.ziai/anaconda/lib/python3.5/site-packages/IPython/core/interactiveshell.py\", line 2885, in run_code\n    exec(code_obj, self.user_global_ns, self.user_ns)\n  File \"/Users/amir.ziai/anaconda/lib/python3.5/site-packages/IPython/core/interactiveshell.py\", line 2825, in run_ast_nodes\n    if self.run_code(code, result):\n"
     ]
    }
   ],
   "source": [
    "random_int = tf.get_variable('random_int2', initializer=x1)"
   ]
  },
  {
   "cell_type": "code",
   "execution_count": 56,
   "metadata": {},
   "outputs": [],
   "source": [
    "# TODO: What is variable reusing?"
   ]
  },
  {
   "cell_type": "code",
   "execution_count": 57,
   "metadata": {},
   "outputs": [
    {
     "data": {
      "text/plain": [
       "<tf.Operation 'init' type=NoOp>"
      ]
     },
     "execution_count": 57,
     "metadata": {},
     "output_type": "execute_result"
    }
   ],
   "source": [
    "# TODO: Is this always necessary?\n",
    "tf.global_variables_initializer()"
   ]
  },
  {
   "cell_type": "code",
   "execution_count": 67,
   "metadata": {},
   "outputs": [
    {
     "data": {
      "text/plain": [
       "array([[54, 87, 37],\n",
       "       [75, 35, 92],\n",
       "       [16, 72, 70],\n",
       "       [ 3, 18, 49],\n",
       "       [92, 98, 32],\n",
       "       [42, 15, 43],\n",
       "       [46, 45, 64],\n",
       "       [27, 53, 62],\n",
       "       [63,  9, 58],\n",
       "       [18, 76, 10]], dtype=int32)"
      ]
     },
     "execution_count": 67,
     "metadata": {},
     "output_type": "execute_result"
    }
   ],
   "source": [
    "x.eval()"
   ]
  },
  {
   "cell_type": "code",
   "execution_count": 61,
   "metadata": {},
   "outputs": [
    {
     "ename": "FailedPreconditionError",
     "evalue": "Attempting to use uninitialized value random_int2\n\t [[Node: _retval_random_int2_0_0 = _Retval[T=DT_INT32, index=0, _device=\"/job:localhost/replica:0/task:0/device:CPU:0\"](random_int2)]]",
     "output_type": "error",
     "traceback": [
      "\u001b[0;31m---------------------------------------------------------------------------\u001b[0m",
      "\u001b[0;31mFailedPreconditionError\u001b[0m                   Traceback (most recent call last)",
      "\u001b[0;32m/Users/amir.ziai/anaconda/lib/python3.5/site-packages/tensorflow/python/client/session.py\u001b[0m in \u001b[0;36m_do_call\u001b[0;34m(self, fn, *args)\u001b[0m\n\u001b[1;32m   1322\u001b[0m     \u001b[0;32mtry\u001b[0m\u001b[0;34m:\u001b[0m\u001b[0;34m\u001b[0m\u001b[0m\n\u001b[0;32m-> 1323\u001b[0;31m       \u001b[0;32mreturn\u001b[0m \u001b[0mfn\u001b[0m\u001b[0;34m(\u001b[0m\u001b[0;34m*\u001b[0m\u001b[0margs\u001b[0m\u001b[0;34m)\u001b[0m\u001b[0;34m\u001b[0m\u001b[0m\n\u001b[0m\u001b[1;32m   1324\u001b[0m     \u001b[0;32mexcept\u001b[0m \u001b[0merrors\u001b[0m\u001b[0;34m.\u001b[0m\u001b[0mOpError\u001b[0m \u001b[0;32mas\u001b[0m \u001b[0me\u001b[0m\u001b[0;34m:\u001b[0m\u001b[0;34m\u001b[0m\u001b[0m\n",
      "\u001b[0;32m/Users/amir.ziai/anaconda/lib/python3.5/site-packages/tensorflow/python/client/session.py\u001b[0m in \u001b[0;36m_run_fn\u001b[0;34m(session, feed_dict, fetch_list, target_list, options, run_metadata)\u001b[0m\n\u001b[1;32m   1301\u001b[0m                                    \u001b[0mfeed_dict\u001b[0m\u001b[0;34m,\u001b[0m \u001b[0mfetch_list\u001b[0m\u001b[0;34m,\u001b[0m \u001b[0mtarget_list\u001b[0m\u001b[0;34m,\u001b[0m\u001b[0;34m\u001b[0m\u001b[0m\n\u001b[0;32m-> 1302\u001b[0;31m                                    status, run_metadata)\n\u001b[0m\u001b[1;32m   1303\u001b[0m \u001b[0;34m\u001b[0m\u001b[0m\n",
      "\u001b[0;32m/Users/amir.ziai/anaconda/lib/python3.5/site-packages/tensorflow/python/framework/errors_impl.py\u001b[0m in \u001b[0;36m__exit__\u001b[0;34m(self, type_arg, value_arg, traceback_arg)\u001b[0m\n\u001b[1;32m    472\u001b[0m             \u001b[0mcompat\u001b[0m\u001b[0;34m.\u001b[0m\u001b[0mas_text\u001b[0m\u001b[0;34m(\u001b[0m\u001b[0mc_api\u001b[0m\u001b[0;34m.\u001b[0m\u001b[0mTF_Message\u001b[0m\u001b[0;34m(\u001b[0m\u001b[0mself\u001b[0m\u001b[0;34m.\u001b[0m\u001b[0mstatus\u001b[0m\u001b[0;34m.\u001b[0m\u001b[0mstatus\u001b[0m\u001b[0;34m)\u001b[0m\u001b[0;34m)\u001b[0m\u001b[0;34m,\u001b[0m\u001b[0;34m\u001b[0m\u001b[0m\n\u001b[0;32m--> 473\u001b[0;31m             c_api.TF_GetCode(self.status.status))\n\u001b[0m\u001b[1;32m    474\u001b[0m     \u001b[0;31m# Delete the underlying status object from memory otherwise it stays alive\u001b[0m\u001b[0;34m\u001b[0m\u001b[0;34m\u001b[0m\u001b[0m\n",
      "\u001b[0;31mFailedPreconditionError\u001b[0m: Attempting to use uninitialized value random_int2\n\t [[Node: _retval_random_int2_0_0 = _Retval[T=DT_INT32, index=0, _device=\"/job:localhost/replica:0/task:0/device:CPU:0\"](random_int2)]]",
      "\nDuring handling of the above exception, another exception occurred:\n",
      "\u001b[0;31mFailedPreconditionError\u001b[0m                   Traceback (most recent call last)",
      "\u001b[0;32m<ipython-input-61-ddfbeab09260>\u001b[0m in \u001b[0;36m<module>\u001b[0;34m()\u001b[0m\n\u001b[1;32m      1\u001b[0m \u001b[0;32mwith\u001b[0m \u001b[0mtf\u001b[0m\u001b[0;34m.\u001b[0m\u001b[0mSession\u001b[0m\u001b[0;34m(\u001b[0m\u001b[0;34m)\u001b[0m \u001b[0;32mas\u001b[0m \u001b[0msess\u001b[0m\u001b[0;34m:\u001b[0m\u001b[0;34m\u001b[0m\u001b[0m\n\u001b[1;32m      2\u001b[0m     \u001b[0mtf\u001b[0m\u001b[0;34m.\u001b[0m\u001b[0mglobal_variables_initializer\u001b[0m\u001b[0;34m(\u001b[0m\u001b[0;34m)\u001b[0m\u001b[0;34m\u001b[0m\u001b[0m\n\u001b[0;32m----> 3\u001b[0;31m     \u001b[0msess\u001b[0m\u001b[0;34m.\u001b[0m\u001b[0mrun\u001b[0m\u001b[0;34m(\u001b[0m\u001b[0mrandom_int\u001b[0m\u001b[0;34m)\u001b[0m\u001b[0;34m\u001b[0m\u001b[0m\n\u001b[0m",
      "\u001b[0;32m/Users/amir.ziai/anaconda/lib/python3.5/site-packages/tensorflow/python/client/session.py\u001b[0m in \u001b[0;36mrun\u001b[0;34m(self, fetches, feed_dict, options, run_metadata)\u001b[0m\n\u001b[1;32m    887\u001b[0m     \u001b[0;32mtry\u001b[0m\u001b[0;34m:\u001b[0m\u001b[0;34m\u001b[0m\u001b[0m\n\u001b[1;32m    888\u001b[0m       result = self._run(None, fetches, feed_dict, options_ptr,\n\u001b[0;32m--> 889\u001b[0;31m                          run_metadata_ptr)\n\u001b[0m\u001b[1;32m    890\u001b[0m       \u001b[0;32mif\u001b[0m \u001b[0mrun_metadata\u001b[0m\u001b[0;34m:\u001b[0m\u001b[0;34m\u001b[0m\u001b[0m\n\u001b[1;32m    891\u001b[0m         \u001b[0mproto_data\u001b[0m \u001b[0;34m=\u001b[0m \u001b[0mtf_session\u001b[0m\u001b[0;34m.\u001b[0m\u001b[0mTF_GetBuffer\u001b[0m\u001b[0;34m(\u001b[0m\u001b[0mrun_metadata_ptr\u001b[0m\u001b[0;34m)\u001b[0m\u001b[0;34m\u001b[0m\u001b[0m\n",
      "\u001b[0;32m/Users/amir.ziai/anaconda/lib/python3.5/site-packages/tensorflow/python/client/session.py\u001b[0m in \u001b[0;36m_run\u001b[0;34m(self, handle, fetches, feed_dict, options, run_metadata)\u001b[0m\n\u001b[1;32m   1118\u001b[0m     \u001b[0;32mif\u001b[0m \u001b[0mfinal_fetches\u001b[0m \u001b[0;32mor\u001b[0m \u001b[0mfinal_targets\u001b[0m \u001b[0;32mor\u001b[0m \u001b[0;34m(\u001b[0m\u001b[0mhandle\u001b[0m \u001b[0;32mand\u001b[0m \u001b[0mfeed_dict_tensor\u001b[0m\u001b[0;34m)\u001b[0m\u001b[0;34m:\u001b[0m\u001b[0;34m\u001b[0m\u001b[0m\n\u001b[1;32m   1119\u001b[0m       results = self._do_run(handle, final_targets, final_fetches,\n\u001b[0;32m-> 1120\u001b[0;31m                              feed_dict_tensor, options, run_metadata)\n\u001b[0m\u001b[1;32m   1121\u001b[0m     \u001b[0;32melse\u001b[0m\u001b[0;34m:\u001b[0m\u001b[0;34m\u001b[0m\u001b[0m\n\u001b[1;32m   1122\u001b[0m       \u001b[0mresults\u001b[0m \u001b[0;34m=\u001b[0m \u001b[0;34m[\u001b[0m\u001b[0;34m]\u001b[0m\u001b[0;34m\u001b[0m\u001b[0m\n",
      "\u001b[0;32m/Users/amir.ziai/anaconda/lib/python3.5/site-packages/tensorflow/python/client/session.py\u001b[0m in \u001b[0;36m_do_run\u001b[0;34m(self, handle, target_list, fetch_list, feed_dict, options, run_metadata)\u001b[0m\n\u001b[1;32m   1315\u001b[0m     \u001b[0;32mif\u001b[0m \u001b[0mhandle\u001b[0m \u001b[0;32mis\u001b[0m \u001b[0;32mNone\u001b[0m\u001b[0;34m:\u001b[0m\u001b[0;34m\u001b[0m\u001b[0m\n\u001b[1;32m   1316\u001b[0m       return self._do_call(_run_fn, self._session, feeds, fetches, targets,\n\u001b[0;32m-> 1317\u001b[0;31m                            options, run_metadata)\n\u001b[0m\u001b[1;32m   1318\u001b[0m     \u001b[0;32melse\u001b[0m\u001b[0;34m:\u001b[0m\u001b[0;34m\u001b[0m\u001b[0m\n\u001b[1;32m   1319\u001b[0m       \u001b[0;32mreturn\u001b[0m \u001b[0mself\u001b[0m\u001b[0;34m.\u001b[0m\u001b[0m_do_call\u001b[0m\u001b[0;34m(\u001b[0m\u001b[0m_prun_fn\u001b[0m\u001b[0;34m,\u001b[0m \u001b[0mself\u001b[0m\u001b[0;34m.\u001b[0m\u001b[0m_session\u001b[0m\u001b[0;34m,\u001b[0m \u001b[0mhandle\u001b[0m\u001b[0;34m,\u001b[0m \u001b[0mfeeds\u001b[0m\u001b[0;34m,\u001b[0m \u001b[0mfetches\u001b[0m\u001b[0;34m)\u001b[0m\u001b[0;34m\u001b[0m\u001b[0m\n",
      "\u001b[0;32m/Users/amir.ziai/anaconda/lib/python3.5/site-packages/tensorflow/python/client/session.py\u001b[0m in \u001b[0;36m_do_call\u001b[0;34m(self, fn, *args)\u001b[0m\n\u001b[1;32m   1334\u001b[0m         \u001b[0;32mexcept\u001b[0m \u001b[0mKeyError\u001b[0m\u001b[0;34m:\u001b[0m\u001b[0;34m\u001b[0m\u001b[0m\n\u001b[1;32m   1335\u001b[0m           \u001b[0;32mpass\u001b[0m\u001b[0;34m\u001b[0m\u001b[0m\n\u001b[0;32m-> 1336\u001b[0;31m       \u001b[0;32mraise\u001b[0m \u001b[0mtype\u001b[0m\u001b[0;34m(\u001b[0m\u001b[0me\u001b[0m\u001b[0;34m)\u001b[0m\u001b[0;34m(\u001b[0m\u001b[0mnode_def\u001b[0m\u001b[0;34m,\u001b[0m \u001b[0mop\u001b[0m\u001b[0;34m,\u001b[0m \u001b[0mmessage\u001b[0m\u001b[0;34m)\u001b[0m\u001b[0;34m\u001b[0m\u001b[0m\n\u001b[0m\u001b[1;32m   1337\u001b[0m \u001b[0;34m\u001b[0m\u001b[0m\n\u001b[1;32m   1338\u001b[0m   \u001b[0;32mdef\u001b[0m \u001b[0m_extend_graph\u001b[0m\u001b[0;34m(\u001b[0m\u001b[0mself\u001b[0m\u001b[0;34m)\u001b[0m\u001b[0;34m:\u001b[0m\u001b[0;34m\u001b[0m\u001b[0m\n",
      "\u001b[0;31mFailedPreconditionError\u001b[0m: Attempting to use uninitialized value random_int2\n\t [[Node: _retval_random_int2_0_0 = _Retval[T=DT_INT32, index=0, _device=\"/job:localhost/replica:0/task:0/device:CPU:0\"](random_int2)]]"
     ]
    }
   ],
   "source": [
    "with tf.Session() as sess:\n",
    "    tf.global_variables_initializer()\n",
    "    sess.run(random_int)"
   ]
  },
  {
   "cell_type": "code",
   "execution_count": 68,
   "metadata": {},
   "outputs": [],
   "source": [
    "random_int_var_one_ex = tf.get_variable(\"random_int_var_one\",\n",
    "                                        initializer=tf.random_uniform([2, 3, 4],\n",
    "                                        minval=0,\n",
    "                                        maxval=10,\n",
    "                                        dtype=tf.int32))"
   ]
  },
  {
   "cell_type": "code",
   "execution_count": 71,
   "metadata": {},
   "outputs": [
    {
     "name": "stdout",
     "output_type": "stream",
     "text": [
      "<tf.Variable 'random_int_var_one:0' shape=(2, 3, 4) dtype=int32_ref>\n"
     ]
    }
   ],
   "source": [
    "print(random_int_var_one_ex)"
   ]
  },
  {
   "cell_type": "code",
   "execution_count": 72,
   "metadata": {},
   "outputs": [
    {
     "name": "stdout",
     "output_type": "stream",
     "text": [
      "[[[5 5 1 7]\n",
      "  [0 5 3 0]\n",
      "  [3 1 7 2]]\n",
      "\n",
      " [[2 2 5 4]\n",
      "  [0 4 6 6]\n",
      "  [4 3 8 2]]]\n"
     ]
    }
   ],
   "source": [
    "sess = tf.Session()\n",
    "sess.run(tf.global_variables_initializer())\n",
    "print(sess.run(random_int_var_one_ex))"
   ]
  },
  {
   "cell_type": "code",
   "execution_count": 73,
   "metadata": {},
   "outputs": [
    {
     "data": {
      "text/plain": [
       "'random_int_var_one:0'"
      ]
     },
     "execution_count": 73,
     "metadata": {},
     "output_type": "execute_result"
    }
   ],
   "source": [
    "random_int_var_one_ex.name"
   ]
  },
  {
   "cell_type": "code",
   "execution_count": 75,
   "metadata": {},
   "outputs": [
    {
     "data": {
      "text/plain": [
       "array([[[5, 5, 1, 7],\n",
       "        [0, 5, 3, 0],\n",
       "        [3, 1, 7, 2]],\n",
       "\n",
       "       [[2, 2, 5, 4],\n",
       "        [0, 4, 6, 6],\n",
       "        [4, 3, 8, 2]]], dtype=int32)"
      ]
     },
     "execution_count": 75,
     "metadata": {},
     "output_type": "execute_result"
    }
   ],
   "source": [
    "sess.run(tf.get_default_graph().get_tensor_by_name(random_int_var_one_ex.name))"
   ]
  },
  {
   "cell_type": "code",
   "execution_count": 76,
   "metadata": {},
   "outputs": [],
   "source": [
    "sess.close()"
   ]
  },
  {
   "cell_type": "code",
   "execution_count": 36,
   "metadata": {},
   "outputs": [],
   "source": [
    "from graphviz import Digraph\n",
    "\n",
    "def tf_to_dot(graph):\n",
    "    dot = Digraph()\n",
    "\n",
    "    for n in graph.as_graph_def().node:\n",
    "        dot.node(n.name, label=n.name)\n",
    "\n",
    "        for i in n.input:\n",
    "            dot.edge(i, n.name)\n",
    "            \n",
    "    return dot"
   ]
  },
  {
   "cell_type": "markdown",
   "metadata": {},
   "source": [
    "### Perceptron v1"
   ]
  },
  {
   "cell_type": "code",
   "execution_count": 177,
   "metadata": {},
   "outputs": [],
   "source": [
    "import numpy as np"
   ]
  },
  {
   "cell_type": "code",
   "execution_count": 178,
   "metadata": {},
   "outputs": [],
   "source": [
    "tf.reset_default_graph()"
   ]
  },
  {
   "cell_type": "code",
   "execution_count": 179,
   "metadata": {},
   "outputs": [
    {
     "data": {
      "image/svg+xml": [
       "<?xml version=\"1.0\" encoding=\"UTF-8\" standalone=\"no\"?>\n",
       "<!DOCTYPE svg PUBLIC \"-//W3C//DTD SVG 1.1//EN\"\n",
       " \"http://www.w3.org/Graphics/SVG/1.1/DTD/svg11.dtd\">\n",
       "<!-- Generated by graphviz version 2.40.1 (20161225.0304)\n",
       " -->\n",
       "<!-- Title: %3 Pages: 1 -->\n",
       "<svg width=\"8pt\" height=\"8pt\"\n",
       " viewBox=\"0.00 0.00 8.00 8.00\" xmlns=\"http://www.w3.org/2000/svg\" xmlns:xlink=\"http://www.w3.org/1999/xlink\">\n",
       "<g id=\"graph0\" class=\"graph\" transform=\"scale(1 1) rotate(0) translate(4 4)\">\n",
       "<title>%3</title>\n",
       "<polygon fill=\"#ffffff\" stroke=\"transparent\" points=\"-4,4 -4,-4 4,-4 4,4 -4,4\"/>\n",
       "</g>\n",
       "</svg>\n"
      ],
      "text/plain": [
       "<graphviz.dot.Digraph at 0x12215da20>"
      ]
     },
     "execution_count": 179,
     "metadata": {},
     "output_type": "execute_result"
    }
   ],
   "source": [
    "tf_to_dot(tf.get_default_graph())"
   ]
  },
  {
   "cell_type": "code",
   "execution_count": 180,
   "metadata": {},
   "outputs": [
    {
     "name": "stdout",
     "output_type": "stream",
     "text": [
      "Tensor(\"x:0\", shape=(1, 2), dtype=float32)\n"
     ]
    },
    {
     "data": {
      "image/svg+xml": [
       "<?xml version=\"1.0\" encoding=\"UTF-8\" standalone=\"no\"?>\n",
       "<!DOCTYPE svg PUBLIC \"-//W3C//DTD SVG 1.1//EN\"\n",
       " \"http://www.w3.org/Graphics/SVG/1.1/DTD/svg11.dtd\">\n",
       "<!-- Generated by graphviz version 2.40.1 (20161225.0304)\n",
       " -->\n",
       "<!-- Title: %3 Pages: 1 -->\n",
       "<svg width=\"62pt\" height=\"44pt\"\n",
       " viewBox=\"0.00 0.00 62.00 44.00\" xmlns=\"http://www.w3.org/2000/svg\" xmlns:xlink=\"http://www.w3.org/1999/xlink\">\n",
       "<g id=\"graph0\" class=\"graph\" transform=\"scale(1 1) rotate(0) translate(4 40)\">\n",
       "<title>%3</title>\n",
       "<polygon fill=\"#ffffff\" stroke=\"transparent\" points=\"-4,4 -4,-40 58,-40 58,4 -4,4\"/>\n",
       "<!-- x -->\n",
       "<g id=\"node1\" class=\"node\">\n",
       "<title>x</title>\n",
       "<ellipse fill=\"none\" stroke=\"#000000\" cx=\"27\" cy=\"-18\" rx=\"27\" ry=\"18\"/>\n",
       "<text text-anchor=\"middle\" x=\"27\" y=\"-13.8\" font-family=\"Times,serif\" font-size=\"14.00\" fill=\"#000000\">x</text>\n",
       "</g>\n",
       "</g>\n",
       "</svg>\n"
      ],
      "text/plain": [
       "<graphviz.dot.Digraph at 0x12200f630>"
      ]
     },
     "execution_count": 180,
     "metadata": {},
     "output_type": "execute_result"
    }
   ],
   "source": [
    "x = tf.placeholder(tf.float32, [1, 2], name='x')\n",
    "print(x)\n",
    "tf_to_dot(tf.get_default_graph())"
   ]
  },
  {
   "cell_type": "code",
   "execution_count": 181,
   "metadata": {},
   "outputs": [
    {
     "name": "stdout",
     "output_type": "stream",
     "text": [
      "Tensor(\"random_normal:0\", shape=(1, 2), dtype=float32)\n"
     ]
    },
    {
     "data": {
      "image/svg+xml": [
       "<?xml version=\"1.0\" encoding=\"UTF-8\" standalone=\"no\"?>\n",
       "<!DOCTYPE svg PUBLIC \"-//W3C//DTD SVG 1.1//EN\"\n",
       " \"http://www.w3.org/Graphics/SVG/1.1/DTD/svg11.dtd\">\n",
       "<!-- Generated by graphviz version 2.40.1 (20161225.0304)\n",
       " -->\n",
       "<!-- Title: %3 Pages: 1 -->\n",
       "<svg width=\"580pt\" height=\"260pt\"\n",
       " viewBox=\"0.00 0.00 580.20 260.00\" xmlns=\"http://www.w3.org/2000/svg\" xmlns:xlink=\"http://www.w3.org/1999/xlink\">\n",
       "<g id=\"graph0\" class=\"graph\" transform=\"scale(1 1) rotate(0) translate(4 256)\">\n",
       "<title>%3</title>\n",
       "<polygon fill=\"#ffffff\" stroke=\"transparent\" points=\"-4,4 -4,-256 576.1996,-256 576.1996,4 -4,4\"/>\n",
       "<!-- x -->\n",
       "<g id=\"node1\" class=\"node\">\n",
       "<title>x</title>\n",
       "<ellipse fill=\"none\" stroke=\"#000000\" cx=\"27\" cy=\"-234\" rx=\"27\" ry=\"18\"/>\n",
       "<text text-anchor=\"middle\" x=\"27\" y=\"-229.8\" font-family=\"Times,serif\" font-size=\"14.00\" fill=\"#000000\">x</text>\n",
       "</g>\n",
       "<!-- random_normal/shape -->\n",
       "<g id=\"node2\" class=\"node\">\n",
       "<title>random_normal/shape</title>\n",
       "<ellipse fill=\"none\" stroke=\"#000000\" cx=\"161\" cy=\"-234\" rx=\"89.3687\" ry=\"18\"/>\n",
       "<text text-anchor=\"middle\" x=\"161\" y=\"-229.8\" font-family=\"Times,serif\" font-size=\"14.00\" fill=\"#000000\">random_normal/shape</text>\n",
       "</g>\n",
       "<!-- random_normal/RandomStandardNormal -->\n",
       "<g id=\"node5\" class=\"node\">\n",
       "<title>random_normal/RandomStandardNormal</title>\n",
       "<ellipse fill=\"none\" stroke=\"#000000\" cx=\"161\" cy=\"-162\" rx=\"157.4325\" ry=\"18\"/>\n",
       "<text text-anchor=\"middle\" x=\"161\" y=\"-157.8\" font-family=\"Times,serif\" font-size=\"14.00\" fill=\"#000000\">random_normal/RandomStandardNormal</text>\n",
       "</g>\n",
       "<!-- random_normal/shape&#45;&gt;random_normal/RandomStandardNormal -->\n",
       "<g id=\"edge1\" class=\"edge\">\n",
       "<title>random_normal/shape&#45;&gt;random_normal/RandomStandardNormal</title>\n",
       "<path fill=\"none\" stroke=\"#000000\" d=\"M161,-215.8314C161,-208.131 161,-198.9743 161,-190.4166\"/>\n",
       "<polygon fill=\"#000000\" stroke=\"#000000\" points=\"164.5001,-190.4132 161,-180.4133 157.5001,-190.4133 164.5001,-190.4132\"/>\n",
       "</g>\n",
       "<!-- random_normal/mean -->\n",
       "<g id=\"node3\" class=\"node\">\n",
       "<title>random_normal/mean</title>\n",
       "<ellipse fill=\"none\" stroke=\"#000000\" cx=\"484\" cy=\"-90\" rx=\"88.3997\" ry=\"18\"/>\n",
       "<text text-anchor=\"middle\" x=\"484\" y=\"-85.8\" font-family=\"Times,serif\" font-size=\"14.00\" fill=\"#000000\">random_normal/mean</text>\n",
       "</g>\n",
       "<!-- random_normal -->\n",
       "<g id=\"node7\" class=\"node\">\n",
       "<title>random_normal</title>\n",
       "<ellipse fill=\"none\" stroke=\"#000000\" cx=\"389\" cy=\"-18\" rx=\"66.6839\" ry=\"18\"/>\n",
       "<text text-anchor=\"middle\" x=\"389\" y=\"-13.8\" font-family=\"Times,serif\" font-size=\"14.00\" fill=\"#000000\">random_normal</text>\n",
       "</g>\n",
       "<!-- random_normal/mean&#45;&gt;random_normal -->\n",
       "<g id=\"edge5\" class=\"edge\">\n",
       "<title>random_normal/mean&#45;&gt;random_normal</title>\n",
       "<path fill=\"none\" stroke=\"#000000\" d=\"M461.0031,-72.5708C448.543,-63.1273 432.9852,-51.3361 419.5225,-41.1328\"/>\n",
       "<polygon fill=\"#000000\" stroke=\"#000000\" points=\"421.5411,-38.2711 411.4573,-35.0202 417.3129,-43.8499 421.5411,-38.2711\"/>\n",
       "</g>\n",
       "<!-- random_normal/stddev -->\n",
       "<g id=\"node4\" class=\"node\">\n",
       "<title>random_normal/stddev</title>\n",
       "<ellipse fill=\"none\" stroke=\"#000000\" cx=\"429\" cy=\"-162\" rx=\"92.2757\" ry=\"18\"/>\n",
       "<text text-anchor=\"middle\" x=\"429\" y=\"-157.8\" font-family=\"Times,serif\" font-size=\"14.00\" fill=\"#000000\">random_normal/stddev</text>\n",
       "</g>\n",
       "<!-- random_normal/mul -->\n",
       "<g id=\"node6\" class=\"node\">\n",
       "<title>random_normal/mul</title>\n",
       "<ellipse fill=\"none\" stroke=\"#000000\" cx=\"295\" cy=\"-90\" rx=\"82.6131\" ry=\"18\"/>\n",
       "<text text-anchor=\"middle\" x=\"295\" y=\"-85.8\" font-family=\"Times,serif\" font-size=\"14.00\" fill=\"#000000\">random_normal/mul</text>\n",
       "</g>\n",
       "<!-- random_normal/stddev&#45;&gt;random_normal/mul -->\n",
       "<g id=\"edge3\" class=\"edge\">\n",
       "<title>random_normal/stddev&#45;&gt;random_normal/mul</title>\n",
       "<path fill=\"none\" stroke=\"#000000\" d=\"M397.2439,-144.937C378.5859,-134.9118 354.8304,-122.1477 334.9143,-111.4465\"/>\n",
       "<polygon fill=\"#000000\" stroke=\"#000000\" points=\"336.5315,-108.3422 326.0659,-106.6921 333.2182,-114.5085 336.5315,-108.3422\"/>\n",
       "</g>\n",
       "<!-- random_normal/RandomStandardNormal&#45;&gt;random_normal/mul -->\n",
       "<g id=\"edge2\" class=\"edge\">\n",
       "<title>random_normal/RandomStandardNormal&#45;&gt;random_normal/mul</title>\n",
       "<path fill=\"none\" stroke=\"#000000\" d=\"M193.7801,-144.3868C212.2413,-134.4674 235.4406,-122.0021 254.9701,-111.5086\"/>\n",
       "<polygon fill=\"#000000\" stroke=\"#000000\" points=\"256.787,-114.5056 263.9393,-106.6893 253.4738,-108.3394 256.787,-114.5056\"/>\n",
       "</g>\n",
       "<!-- random_normal/mul&#45;&gt;random_normal -->\n",
       "<g id=\"edge4\" class=\"edge\">\n",
       "<title>random_normal/mul&#45;&gt;random_normal</title>\n",
       "<path fill=\"none\" stroke=\"#000000\" d=\"M317.7548,-72.5708C330.0837,-63.1273 345.4778,-51.3361 358.7988,-41.1328\"/>\n",
       "<polygon fill=\"#000000\" stroke=\"#000000\" points=\"360.9686,-43.8796 366.7791,-35.0202 356.712,-38.3225 360.9686,-43.8796\"/>\n",
       "</g>\n",
       "</g>\n",
       "</svg>\n"
      ],
      "text/plain": [
       "<graphviz.dot.Digraph at 0x12200f390>"
      ]
     },
     "execution_count": 181,
     "metadata": {},
     "output_type": "execute_result"
    }
   ],
   "source": [
    "init = tf.random_normal([1, 2])\n",
    "print(init)\n",
    "tf_to_dot(tf.get_default_graph())"
   ]
  },
  {
   "cell_type": "code",
   "execution_count": 182,
   "metadata": {},
   "outputs": [
    {
     "name": "stdout",
     "output_type": "stream",
     "text": [
      "<tf.Variable 'w:0' shape=(1, 2) dtype=float32_ref>\n"
     ]
    },
    {
     "data": {
      "image/svg+xml": [
       "<?xml version=\"1.0\" encoding=\"UTF-8\" standalone=\"no\"?>\n",
       "<!DOCTYPE svg PUBLIC \"-//W3C//DTD SVG 1.1//EN\"\n",
       " \"http://www.w3.org/Graphics/SVG/1.1/DTD/svg11.dtd\">\n",
       "<!-- Generated by graphviz version 2.40.1 (20161225.0304)\n",
       " -->\n",
       "<!-- Title: %3 Pages: 1 -->\n",
       "<svg width=\"580pt\" height=\"332pt\"\n",
       " viewBox=\"0.00 0.00 580.20 332.00\" xmlns=\"http://www.w3.org/2000/svg\" xmlns:xlink=\"http://www.w3.org/1999/xlink\">\n",
       "<g id=\"graph0\" class=\"graph\" transform=\"scale(1 1) rotate(0) translate(4 328)\">\n",
       "<title>%3</title>\n",
       "<polygon fill=\"#ffffff\" stroke=\"transparent\" points=\"-4,4 -4,-328 576.1996,-328 576.1996,4 -4,4\"/>\n",
       "<!-- x -->\n",
       "<g id=\"node1\" class=\"node\">\n",
       "<title>x</title>\n",
       "<ellipse fill=\"none\" stroke=\"#000000\" cx=\"27\" cy=\"-306\" rx=\"27\" ry=\"18\"/>\n",
       "<text text-anchor=\"middle\" x=\"27\" y=\"-301.8\" font-family=\"Times,serif\" font-size=\"14.00\" fill=\"#000000\">x</text>\n",
       "</g>\n",
       "<!-- random_normal/shape -->\n",
       "<g id=\"node2\" class=\"node\">\n",
       "<title>random_normal/shape</title>\n",
       "<ellipse fill=\"none\" stroke=\"#000000\" cx=\"161\" cy=\"-306\" rx=\"89.3687\" ry=\"18\"/>\n",
       "<text text-anchor=\"middle\" x=\"161\" y=\"-301.8\" font-family=\"Times,serif\" font-size=\"14.00\" fill=\"#000000\">random_normal/shape</text>\n",
       "</g>\n",
       "<!-- random_normal/RandomStandardNormal -->\n",
       "<g id=\"node5\" class=\"node\">\n",
       "<title>random_normal/RandomStandardNormal</title>\n",
       "<ellipse fill=\"none\" stroke=\"#000000\" cx=\"161\" cy=\"-234\" rx=\"157.4325\" ry=\"18\"/>\n",
       "<text text-anchor=\"middle\" x=\"161\" y=\"-229.8\" font-family=\"Times,serif\" font-size=\"14.00\" fill=\"#000000\">random_normal/RandomStandardNormal</text>\n",
       "</g>\n",
       "<!-- random_normal/shape&#45;&gt;random_normal/RandomStandardNormal -->\n",
       "<g id=\"edge1\" class=\"edge\">\n",
       "<title>random_normal/shape&#45;&gt;random_normal/RandomStandardNormal</title>\n",
       "<path fill=\"none\" stroke=\"#000000\" d=\"M161,-287.8314C161,-280.131 161,-270.9743 161,-262.4166\"/>\n",
       "<polygon fill=\"#000000\" stroke=\"#000000\" points=\"164.5001,-262.4132 161,-252.4133 157.5001,-262.4133 164.5001,-262.4132\"/>\n",
       "</g>\n",
       "<!-- random_normal/mean -->\n",
       "<g id=\"node3\" class=\"node\">\n",
       "<title>random_normal/mean</title>\n",
       "<ellipse fill=\"none\" stroke=\"#000000\" cx=\"484\" cy=\"-162\" rx=\"88.3997\" ry=\"18\"/>\n",
       "<text text-anchor=\"middle\" x=\"484\" y=\"-157.8\" font-family=\"Times,serif\" font-size=\"14.00\" fill=\"#000000\">random_normal/mean</text>\n",
       "</g>\n",
       "<!-- random_normal -->\n",
       "<g id=\"node7\" class=\"node\">\n",
       "<title>random_normal</title>\n",
       "<ellipse fill=\"none\" stroke=\"#000000\" cx=\"389\" cy=\"-90\" rx=\"66.6839\" ry=\"18\"/>\n",
       "<text text-anchor=\"middle\" x=\"389\" y=\"-85.8\" font-family=\"Times,serif\" font-size=\"14.00\" fill=\"#000000\">random_normal</text>\n",
       "</g>\n",
       "<!-- random_normal/mean&#45;&gt;random_normal -->\n",
       "<g id=\"edge5\" class=\"edge\">\n",
       "<title>random_normal/mean&#45;&gt;random_normal</title>\n",
       "<path fill=\"none\" stroke=\"#000000\" d=\"M461.0031,-144.5708C448.543,-135.1273 432.9852,-123.3361 419.5225,-113.1328\"/>\n",
       "<polygon fill=\"#000000\" stroke=\"#000000\" points=\"421.5411,-110.2711 411.4573,-107.0202 417.3129,-115.8499 421.5411,-110.2711\"/>\n",
       "</g>\n",
       "<!-- random_normal/stddev -->\n",
       "<g id=\"node4\" class=\"node\">\n",
       "<title>random_normal/stddev</title>\n",
       "<ellipse fill=\"none\" stroke=\"#000000\" cx=\"429\" cy=\"-234\" rx=\"92.2757\" ry=\"18\"/>\n",
       "<text text-anchor=\"middle\" x=\"429\" y=\"-229.8\" font-family=\"Times,serif\" font-size=\"14.00\" fill=\"#000000\">random_normal/stddev</text>\n",
       "</g>\n",
       "<!-- random_normal/mul -->\n",
       "<g id=\"node6\" class=\"node\">\n",
       "<title>random_normal/mul</title>\n",
       "<ellipse fill=\"none\" stroke=\"#000000\" cx=\"295\" cy=\"-162\" rx=\"82.6131\" ry=\"18\"/>\n",
       "<text text-anchor=\"middle\" x=\"295\" y=\"-157.8\" font-family=\"Times,serif\" font-size=\"14.00\" fill=\"#000000\">random_normal/mul</text>\n",
       "</g>\n",
       "<!-- random_normal/stddev&#45;&gt;random_normal/mul -->\n",
       "<g id=\"edge3\" class=\"edge\">\n",
       "<title>random_normal/stddev&#45;&gt;random_normal/mul</title>\n",
       "<path fill=\"none\" stroke=\"#000000\" d=\"M397.2439,-216.937C378.5859,-206.9118 354.8304,-194.1477 334.9143,-183.4465\"/>\n",
       "<polygon fill=\"#000000\" stroke=\"#000000\" points=\"336.5315,-180.3422 326.0659,-178.6921 333.2182,-186.5085 336.5315,-180.3422\"/>\n",
       "</g>\n",
       "<!-- random_normal/RandomStandardNormal&#45;&gt;random_normal/mul -->\n",
       "<g id=\"edge2\" class=\"edge\">\n",
       "<title>random_normal/RandomStandardNormal&#45;&gt;random_normal/mul</title>\n",
       "<path fill=\"none\" stroke=\"#000000\" d=\"M193.7801,-216.3868C212.2413,-206.4674 235.4406,-194.0021 254.9701,-183.5086\"/>\n",
       "<polygon fill=\"#000000\" stroke=\"#000000\" points=\"256.787,-186.5056 263.9393,-178.6893 253.4738,-180.3394 256.787,-186.5056\"/>\n",
       "</g>\n",
       "<!-- random_normal/mul&#45;&gt;random_normal -->\n",
       "<g id=\"edge4\" class=\"edge\">\n",
       "<title>random_normal/mul&#45;&gt;random_normal</title>\n",
       "<path fill=\"none\" stroke=\"#000000\" d=\"M317.7548,-144.5708C330.0837,-135.1273 345.4778,-123.3361 358.7988,-113.1328\"/>\n",
       "<polygon fill=\"#000000\" stroke=\"#000000\" points=\"360.9686,-115.8796 366.7791,-107.0202 356.712,-110.3225 360.9686,-115.8796\"/>\n",
       "</g>\n",
       "<!-- w/Assign -->\n",
       "<g id=\"node9\" class=\"node\">\n",
       "<title>w/Assign</title>\n",
       "<ellipse fill=\"none\" stroke=\"#000000\" cx=\"397\" cy=\"-18\" rx=\"43.5405\" ry=\"18\"/>\n",
       "<text text-anchor=\"middle\" x=\"397\" y=\"-13.8\" font-family=\"Times,serif\" font-size=\"14.00\" fill=\"#000000\">w/Assign</text>\n",
       "</g>\n",
       "<!-- random_normal&#45;&gt;w/Assign -->\n",
       "<g id=\"edge7\" class=\"edge\">\n",
       "<title>random_normal&#45;&gt;w/Assign</title>\n",
       "<path fill=\"none\" stroke=\"#000000\" d=\"M391.0187,-71.8314C391.8743,-64.131 392.8917,-54.9743 393.8426,-46.4166\"/>\n",
       "<polygon fill=\"#000000\" stroke=\"#000000\" points=\"397.3283,-46.7386 394.9541,-36.4133 390.3711,-45.9656 397.3283,-46.7386\"/>\n",
       "</g>\n",
       "<!-- w -->\n",
       "<g id=\"node8\" class=\"node\">\n",
       "<title>w</title>\n",
       "<ellipse fill=\"none\" stroke=\"#000000\" cx=\"501\" cy=\"-90\" rx=\"27\" ry=\"18\"/>\n",
       "<text text-anchor=\"middle\" x=\"501\" y=\"-85.8\" font-family=\"Times,serif\" font-size=\"14.00\" fill=\"#000000\">w</text>\n",
       "</g>\n",
       "<!-- w&#45;&gt;w/Assign -->\n",
       "<g id=\"edge6\" class=\"edge\">\n",
       "<title>w&#45;&gt;w/Assign</title>\n",
       "<path fill=\"none\" stroke=\"#000000\" d=\"M481.9248,-76.7941C466.8066,-66.3276 445.3807,-51.4943 427.8328,-39.3458\"/>\n",
       "<polygon fill=\"#000000\" stroke=\"#000000\" points=\"429.7887,-36.4429 419.5745,-33.6285 425.8042,-42.1983 429.7887,-36.4429\"/>\n",
       "</g>\n",
       "<!-- w/read -->\n",
       "<g id=\"node10\" class=\"node\">\n",
       "<title>w/read</title>\n",
       "<ellipse fill=\"none\" stroke=\"#000000\" cx=\"501\" cy=\"-18\" rx=\"34.3354\" ry=\"18\"/>\n",
       "<text text-anchor=\"middle\" x=\"501\" y=\"-13.8\" font-family=\"Times,serif\" font-size=\"14.00\" fill=\"#000000\">w/read</text>\n",
       "</g>\n",
       "<!-- w&#45;&gt;w/read -->\n",
       "<g id=\"edge8\" class=\"edge\">\n",
       "<title>w&#45;&gt;w/read</title>\n",
       "<path fill=\"none\" stroke=\"#000000\" d=\"M501,-71.8314C501,-64.131 501,-54.9743 501,-46.4166\"/>\n",
       "<polygon fill=\"#000000\" stroke=\"#000000\" points=\"504.5001,-46.4132 501,-36.4133 497.5001,-46.4133 504.5001,-46.4132\"/>\n",
       "</g>\n",
       "</g>\n",
       "</svg>\n"
      ],
      "text/plain": [
       "<graphviz.dot.Digraph at 0x12200f908>"
      ]
     },
     "execution_count": 182,
     "metadata": {},
     "output_type": "execute_result"
    }
   ],
   "source": [
    "w = tf.Variable(init, name='w')\n",
    "print(w)\n",
    "tf_to_dot(tf.get_default_graph())"
   ]
  },
  {
   "cell_type": "code",
   "execution_count": 183,
   "metadata": {},
   "outputs": [
    {
     "name": "stdout",
     "output_type": "stream",
     "text": [
      "Tensor(\"mul:0\", shape=(1, 2), dtype=float32)\n"
     ]
    },
    {
     "data": {
      "image/svg+xml": [
       "<?xml version=\"1.0\" encoding=\"UTF-8\" standalone=\"no\"?>\n",
       "<!DOCTYPE svg PUBLIC \"-//W3C//DTD SVG 1.1//EN\"\n",
       " \"http://www.w3.org/Graphics/SVG/1.1/DTD/svg11.dtd\">\n",
       "<!-- Generated by graphviz version 2.40.1 (20161225.0304)\n",
       " -->\n",
       "<!-- Title: %3 Pages: 1 -->\n",
       "<svg width=\"577pt\" height=\"404pt\"\n",
       " viewBox=\"0.00 0.00 576.67 404.00\" xmlns=\"http://www.w3.org/2000/svg\" xmlns:xlink=\"http://www.w3.org/1999/xlink\">\n",
       "<g id=\"graph0\" class=\"graph\" transform=\"scale(1 1) rotate(0) translate(4 400)\">\n",
       "<title>%3</title>\n",
       "<polygon fill=\"#ffffff\" stroke=\"transparent\" points=\"-4,4 -4,-400 572.6659,-400 572.6659,4 -4,4\"/>\n",
       "<!-- x -->\n",
       "<g id=\"node1\" class=\"node\">\n",
       "<title>x</title>\n",
       "<ellipse fill=\"none\" stroke=\"#000000\" cx=\"109.1996\" cy=\"-90\" rx=\"27\" ry=\"18\"/>\n",
       "<text text-anchor=\"middle\" x=\"109.1996\" y=\"-85.8\" font-family=\"Times,serif\" font-size=\"14.00\" fill=\"#000000\">x</text>\n",
       "</g>\n",
       "<!-- mul -->\n",
       "<g id=\"node11\" class=\"node\">\n",
       "<title>mul</title>\n",
       "<ellipse fill=\"none\" stroke=\"#000000\" cx=\"201.1996\" cy=\"-18\" rx=\"27\" ry=\"18\"/>\n",
       "<text text-anchor=\"middle\" x=\"201.1996\" y=\"-13.8\" font-family=\"Times,serif\" font-size=\"14.00\" fill=\"#000000\">mul</text>\n",
       "</g>\n",
       "<!-- x&#45;&gt;mul -->\n",
       "<g id=\"edge10\" class=\"edge\">\n",
       "<title>x&#45;&gt;mul</title>\n",
       "<path fill=\"none\" stroke=\"#000000\" d=\"M126.9382,-76.1177C140.6838,-65.3602 159.9263,-50.3009 175.3794,-38.2072\"/>\n",
       "<polygon fill=\"#000000\" stroke=\"#000000\" points=\"177.7976,-40.7591 183.5156,-31.8397 173.4834,-35.2466 177.7976,-40.7591\"/>\n",
       "</g>\n",
       "<!-- random_normal/shape -->\n",
       "<g id=\"node2\" class=\"node\">\n",
       "<title>random_normal/shape</title>\n",
       "<ellipse fill=\"none\" stroke=\"#000000\" cx=\"411.1996\" cy=\"-378\" rx=\"89.3687\" ry=\"18\"/>\n",
       "<text text-anchor=\"middle\" x=\"411.1996\" y=\"-373.8\" font-family=\"Times,serif\" font-size=\"14.00\" fill=\"#000000\">random_normal/shape</text>\n",
       "</g>\n",
       "<!-- random_normal/RandomStandardNormal -->\n",
       "<g id=\"node5\" class=\"node\">\n",
       "<title>random_normal/RandomStandardNormal</title>\n",
       "<ellipse fill=\"none\" stroke=\"#000000\" cx=\"411.1996\" cy=\"-306\" rx=\"157.4325\" ry=\"18\"/>\n",
       "<text text-anchor=\"middle\" x=\"411.1996\" y=\"-301.8\" font-family=\"Times,serif\" font-size=\"14.00\" fill=\"#000000\">random_normal/RandomStandardNormal</text>\n",
       "</g>\n",
       "<!-- random_normal/shape&#45;&gt;random_normal/RandomStandardNormal -->\n",
       "<g id=\"edge1\" class=\"edge\">\n",
       "<title>random_normal/shape&#45;&gt;random_normal/RandomStandardNormal</title>\n",
       "<path fill=\"none\" stroke=\"#000000\" d=\"M411.1996,-359.8314C411.1996,-352.131 411.1996,-342.9743 411.1996,-334.4166\"/>\n",
       "<polygon fill=\"#000000\" stroke=\"#000000\" points=\"414.6997,-334.4132 411.1996,-324.4133 407.6997,-334.4133 414.6997,-334.4132\"/>\n",
       "</g>\n",
       "<!-- random_normal/mean -->\n",
       "<g id=\"node3\" class=\"node\">\n",
       "<title>random_normal/mean</title>\n",
       "<ellipse fill=\"none\" stroke=\"#000000\" cx=\"88.1996\" cy=\"-234\" rx=\"88.3997\" ry=\"18\"/>\n",
       "<text text-anchor=\"middle\" x=\"88.1996\" y=\"-229.8\" font-family=\"Times,serif\" font-size=\"14.00\" fill=\"#000000\">random_normal/mean</text>\n",
       "</g>\n",
       "<!-- random_normal -->\n",
       "<g id=\"node7\" class=\"node\">\n",
       "<title>random_normal</title>\n",
       "<ellipse fill=\"none\" stroke=\"#000000\" cx=\"182.1996\" cy=\"-162\" rx=\"66.6839\" ry=\"18\"/>\n",
       "<text text-anchor=\"middle\" x=\"182.1996\" y=\"-157.8\" font-family=\"Times,serif\" font-size=\"14.00\" fill=\"#000000\">random_normal</text>\n",
       "</g>\n",
       "<!-- random_normal/mean&#45;&gt;random_normal -->\n",
       "<g id=\"edge5\" class=\"edge\">\n",
       "<title>random_normal/mean&#45;&gt;random_normal</title>\n",
       "<path fill=\"none\" stroke=\"#000000\" d=\"M110.9544,-216.5708C123.2834,-207.1273 138.6775,-195.3361 151.9984,-185.1328\"/>\n",
       "<polygon fill=\"#000000\" stroke=\"#000000\" points=\"154.1682,-187.8796 159.9788,-179.0202 149.9117,-182.3225 154.1682,-187.8796\"/>\n",
       "</g>\n",
       "<!-- random_normal/stddev -->\n",
       "<g id=\"node4\" class=\"node\">\n",
       "<title>random_normal/stddev</title>\n",
       "<ellipse fill=\"none\" stroke=\"#000000\" cx=\"143.1996\" cy=\"-306\" rx=\"92.2757\" ry=\"18\"/>\n",
       "<text text-anchor=\"middle\" x=\"143.1996\" y=\"-301.8\" font-family=\"Times,serif\" font-size=\"14.00\" fill=\"#000000\">random_normal/stddev</text>\n",
       "</g>\n",
       "<!-- random_normal/mul -->\n",
       "<g id=\"node6\" class=\"node\">\n",
       "<title>random_normal/mul</title>\n",
       "<ellipse fill=\"none\" stroke=\"#000000\" cx=\"277.1996\" cy=\"-234\" rx=\"82.6131\" ry=\"18\"/>\n",
       "<text text-anchor=\"middle\" x=\"277.1996\" y=\"-229.8\" font-family=\"Times,serif\" font-size=\"14.00\" fill=\"#000000\">random_normal/mul</text>\n",
       "</g>\n",
       "<!-- random_normal/stddev&#45;&gt;random_normal/mul -->\n",
       "<g id=\"edge3\" class=\"edge\">\n",
       "<title>random_normal/stddev&#45;&gt;random_normal/mul</title>\n",
       "<path fill=\"none\" stroke=\"#000000\" d=\"M174.9558,-288.937C193.6137,-278.9118 217.3692,-266.1477 237.2853,-255.4465\"/>\n",
       "<polygon fill=\"#000000\" stroke=\"#000000\" points=\"238.9814,-258.5085 246.1337,-250.6921 235.6681,-252.3422 238.9814,-258.5085\"/>\n",
       "</g>\n",
       "<!-- random_normal/RandomStandardNormal&#45;&gt;random_normal/mul -->\n",
       "<g id=\"edge2\" class=\"edge\">\n",
       "<title>random_normal/RandomStandardNormal&#45;&gt;random_normal/mul</title>\n",
       "<path fill=\"none\" stroke=\"#000000\" d=\"M378.4195,-288.3868C359.9584,-278.4674 336.7591,-266.0021 317.2295,-255.5086\"/>\n",
       "<polygon fill=\"#000000\" stroke=\"#000000\" points=\"318.7259,-252.3394 308.2603,-250.6893 315.4126,-258.5056 318.7259,-252.3394\"/>\n",
       "</g>\n",
       "<!-- random_normal/mul&#45;&gt;random_normal -->\n",
       "<g id=\"edge4\" class=\"edge\">\n",
       "<title>random_normal/mul&#45;&gt;random_normal</title>\n",
       "<path fill=\"none\" stroke=\"#000000\" d=\"M254.2028,-216.5708C241.7427,-207.1273 226.1848,-195.3361 212.7221,-185.1328\"/>\n",
       "<polygon fill=\"#000000\" stroke=\"#000000\" points=\"214.7407,-182.2711 204.6569,-179.0202 210.5125,-187.8499 214.7407,-182.2711\"/>\n",
       "</g>\n",
       "<!-- w/Assign -->\n",
       "<g id=\"node9\" class=\"node\">\n",
       "<title>w/Assign</title>\n",
       "<ellipse fill=\"none\" stroke=\"#000000\" cx=\"198.1996\" cy=\"-90\" rx=\"43.5405\" ry=\"18\"/>\n",
       "<text text-anchor=\"middle\" x=\"198.1996\" y=\"-85.8\" font-family=\"Times,serif\" font-size=\"14.00\" fill=\"#000000\">w/Assign</text>\n",
       "</g>\n",
       "<!-- random_normal&#45;&gt;w/Assign -->\n",
       "<g id=\"edge7\" class=\"edge\">\n",
       "<title>random_normal&#45;&gt;w/Assign</title>\n",
       "<path fill=\"none\" stroke=\"#000000\" d=\"M186.2371,-143.8314C187.9483,-136.131 189.9831,-126.9743 191.8848,-118.4166\"/>\n",
       "<polygon fill=\"#000000\" stroke=\"#000000\" points=\"195.3551,-118.9344 194.1078,-108.4133 188.5218,-117.4159 195.3551,-118.9344\"/>\n",
       "</g>\n",
       "<!-- w -->\n",
       "<g id=\"node8\" class=\"node\">\n",
       "<title>w</title>\n",
       "<ellipse fill=\"none\" stroke=\"#000000\" cx=\"294.1996\" cy=\"-162\" rx=\"27\" ry=\"18\"/>\n",
       "<text text-anchor=\"middle\" x=\"294.1996\" y=\"-157.8\" font-family=\"Times,serif\" font-size=\"14.00\" fill=\"#000000\">w</text>\n",
       "</g>\n",
       "<!-- w&#45;&gt;w/Assign -->\n",
       "<g id=\"edge6\" class=\"edge\">\n",
       "<title>w&#45;&gt;w/Assign</title>\n",
       "<path fill=\"none\" stroke=\"#000000\" d=\"M276.1428,-148.4574C262.5778,-138.2836 243.7007,-124.1258 227.9215,-112.2914\"/>\n",
       "<polygon fill=\"#000000\" stroke=\"#000000\" points=\"229.6275,-109.1959 219.5275,-105.9959 225.4275,-114.7959 229.6275,-109.1959\"/>\n",
       "</g>\n",
       "<!-- w/read -->\n",
       "<g id=\"node10\" class=\"node\">\n",
       "<title>w/read</title>\n",
       "<ellipse fill=\"none\" stroke=\"#000000\" cx=\"294.1996\" cy=\"-90\" rx=\"34.3354\" ry=\"18\"/>\n",
       "<text text-anchor=\"middle\" x=\"294.1996\" y=\"-85.8\" font-family=\"Times,serif\" font-size=\"14.00\" fill=\"#000000\">w/read</text>\n",
       "</g>\n",
       "<!-- w&#45;&gt;w/read -->\n",
       "<g id=\"edge8\" class=\"edge\">\n",
       "<title>w&#45;&gt;w/read</title>\n",
       "<path fill=\"none\" stroke=\"#000000\" d=\"M294.1996,-143.8314C294.1996,-136.131 294.1996,-126.9743 294.1996,-118.4166\"/>\n",
       "<polygon fill=\"#000000\" stroke=\"#000000\" points=\"297.6997,-118.4132 294.1996,-108.4133 290.6997,-118.4133 297.6997,-118.4132\"/>\n",
       "</g>\n",
       "<!-- w/read&#45;&gt;mul -->\n",
       "<g id=\"edge9\" class=\"edge\">\n",
       "<title>w/read&#45;&gt;mul</title>\n",
       "<path fill=\"none\" stroke=\"#000000\" d=\"M274.93,-75.0816C261.0139,-64.3078 242.074,-49.6446 226.875,-37.8777\"/>\n",
       "<polygon fill=\"#000000\" stroke=\"#000000\" points=\"228.9216,-35.0358 218.8717,-31.6816 224.6364,-40.5709 228.9216,-35.0358\"/>\n",
       "</g>\n",
       "</g>\n",
       "</svg>\n"
      ],
      "text/plain": [
       "<graphviz.dot.Digraph at 0x12215d780>"
      ]
     },
     "execution_count": 183,
     "metadata": {},
     "output_type": "execute_result"
    }
   ],
   "source": [
    "y = w * x\n",
    "print(y)\n",
    "tf_to_dot(tf.get_default_graph())"
   ]
  },
  {
   "cell_type": "code",
   "execution_count": 184,
   "metadata": {},
   "outputs": [],
   "source": [
    "init = tf.global_variables_initializer()"
   ]
  },
  {
   "cell_type": "code",
   "execution_count": 185,
   "metadata": {},
   "outputs": [
    {
     "name": "stdout",
     "output_type": "stream",
     "text": [
      "[[ 1.49550366 -0.65282011]]\n",
      "[[ 1.49550366 -1.30564022]]\n"
     ]
    }
   ],
   "source": [
    "with tf.Session() as sess:\n",
    "    sess.run(init)\n",
    "    w_current = sess.run(w)\n",
    "    a = sess.run(y, feed_dict={x: np.array([[1, 2]])})\n",
    "    print(w_current)\n",
    "    print(a)"
   ]
  },
  {
   "cell_type": "code",
   "execution_count": 186,
   "metadata": {},
   "outputs": [
    {
     "data": {
      "image/svg+xml": [
       "<?xml version=\"1.0\" encoding=\"UTF-8\" standalone=\"no\"?>\n",
       "<!DOCTYPE svg PUBLIC \"-//W3C//DTD SVG 1.1//EN\"\n",
       " \"http://www.w3.org/Graphics/SVG/1.1/DTD/svg11.dtd\">\n",
       "<!-- Generated by graphviz version 2.40.1 (20161225.0304)\n",
       " -->\n",
       "<!-- Title: %3 Pages: 1 -->\n",
       "<svg width=\"669pt\" height=\"404pt\"\n",
       " viewBox=\"0.00 0.00 668.87 404.00\" xmlns=\"http://www.w3.org/2000/svg\" xmlns:xlink=\"http://www.w3.org/1999/xlink\">\n",
       "<g id=\"graph0\" class=\"graph\" transform=\"scale(1 1) rotate(0) translate(4 400)\">\n",
       "<title>%3</title>\n",
       "<polygon fill=\"#ffffff\" stroke=\"transparent\" points=\"-4,4 -4,-400 664.8696,-400 664.8696,4 -4,4\"/>\n",
       "<!-- x -->\n",
       "<g id=\"node1\" class=\"node\">\n",
       "<title>x</title>\n",
       "<ellipse fill=\"none\" stroke=\"#000000\" cx=\"109.1996\" cy=\"-90\" rx=\"27\" ry=\"18\"/>\n",
       "<text text-anchor=\"middle\" x=\"109.1996\" y=\"-85.8\" font-family=\"Times,serif\" font-size=\"14.00\" fill=\"#000000\">x</text>\n",
       "</g>\n",
       "<!-- mul -->\n",
       "<g id=\"node11\" class=\"node\">\n",
       "<title>mul</title>\n",
       "<ellipse fill=\"none\" stroke=\"#000000\" cx=\"201.1996\" cy=\"-18\" rx=\"27\" ry=\"18\"/>\n",
       "<text text-anchor=\"middle\" x=\"201.1996\" y=\"-13.8\" font-family=\"Times,serif\" font-size=\"14.00\" fill=\"#000000\">mul</text>\n",
       "</g>\n",
       "<!-- x&#45;&gt;mul -->\n",
       "<g id=\"edge10\" class=\"edge\">\n",
       "<title>x&#45;&gt;mul</title>\n",
       "<path fill=\"none\" stroke=\"#000000\" d=\"M126.9382,-76.1177C140.6838,-65.3602 159.9263,-50.3009 175.3794,-38.2072\"/>\n",
       "<polygon fill=\"#000000\" stroke=\"#000000\" points=\"177.7976,-40.7591 183.5156,-31.8397 173.4834,-35.2466 177.7976,-40.7591\"/>\n",
       "</g>\n",
       "<!-- random_normal/shape -->\n",
       "<g id=\"node2\" class=\"node\">\n",
       "<title>random_normal/shape</title>\n",
       "<ellipse fill=\"none\" stroke=\"#000000\" cx=\"411.1996\" cy=\"-378\" rx=\"89.3687\" ry=\"18\"/>\n",
       "<text text-anchor=\"middle\" x=\"411.1996\" y=\"-373.8\" font-family=\"Times,serif\" font-size=\"14.00\" fill=\"#000000\">random_normal/shape</text>\n",
       "</g>\n",
       "<!-- random_normal/RandomStandardNormal -->\n",
       "<g id=\"node5\" class=\"node\">\n",
       "<title>random_normal/RandomStandardNormal</title>\n",
       "<ellipse fill=\"none\" stroke=\"#000000\" cx=\"411.1996\" cy=\"-306\" rx=\"157.4325\" ry=\"18\"/>\n",
       "<text text-anchor=\"middle\" x=\"411.1996\" y=\"-301.8\" font-family=\"Times,serif\" font-size=\"14.00\" fill=\"#000000\">random_normal/RandomStandardNormal</text>\n",
       "</g>\n",
       "<!-- random_normal/shape&#45;&gt;random_normal/RandomStandardNormal -->\n",
       "<g id=\"edge1\" class=\"edge\">\n",
       "<title>random_normal/shape&#45;&gt;random_normal/RandomStandardNormal</title>\n",
       "<path fill=\"none\" stroke=\"#000000\" d=\"M411.1996,-359.8314C411.1996,-352.131 411.1996,-342.9743 411.1996,-334.4166\"/>\n",
       "<polygon fill=\"#000000\" stroke=\"#000000\" points=\"414.6997,-334.4132 411.1996,-324.4133 407.6997,-334.4133 414.6997,-334.4132\"/>\n",
       "</g>\n",
       "<!-- random_normal/mean -->\n",
       "<g id=\"node3\" class=\"node\">\n",
       "<title>random_normal/mean</title>\n",
       "<ellipse fill=\"none\" stroke=\"#000000\" cx=\"88.1996\" cy=\"-234\" rx=\"88.3997\" ry=\"18\"/>\n",
       "<text text-anchor=\"middle\" x=\"88.1996\" y=\"-229.8\" font-family=\"Times,serif\" font-size=\"14.00\" fill=\"#000000\">random_normal/mean</text>\n",
       "</g>\n",
       "<!-- random_normal -->\n",
       "<g id=\"node7\" class=\"node\">\n",
       "<title>random_normal</title>\n",
       "<ellipse fill=\"none\" stroke=\"#000000\" cx=\"182.1996\" cy=\"-162\" rx=\"66.6839\" ry=\"18\"/>\n",
       "<text text-anchor=\"middle\" x=\"182.1996\" y=\"-157.8\" font-family=\"Times,serif\" font-size=\"14.00\" fill=\"#000000\">random_normal</text>\n",
       "</g>\n",
       "<!-- random_normal/mean&#45;&gt;random_normal -->\n",
       "<g id=\"edge5\" class=\"edge\">\n",
       "<title>random_normal/mean&#45;&gt;random_normal</title>\n",
       "<path fill=\"none\" stroke=\"#000000\" d=\"M110.9544,-216.5708C123.2834,-207.1273 138.6775,-195.3361 151.9984,-185.1328\"/>\n",
       "<polygon fill=\"#000000\" stroke=\"#000000\" points=\"154.1682,-187.8796 159.9788,-179.0202 149.9117,-182.3225 154.1682,-187.8796\"/>\n",
       "</g>\n",
       "<!-- random_normal/stddev -->\n",
       "<g id=\"node4\" class=\"node\">\n",
       "<title>random_normal/stddev</title>\n",
       "<ellipse fill=\"none\" stroke=\"#000000\" cx=\"143.1996\" cy=\"-306\" rx=\"92.2757\" ry=\"18\"/>\n",
       "<text text-anchor=\"middle\" x=\"143.1996\" y=\"-301.8\" font-family=\"Times,serif\" font-size=\"14.00\" fill=\"#000000\">random_normal/stddev</text>\n",
       "</g>\n",
       "<!-- random_normal/mul -->\n",
       "<g id=\"node6\" class=\"node\">\n",
       "<title>random_normal/mul</title>\n",
       "<ellipse fill=\"none\" stroke=\"#000000\" cx=\"277.1996\" cy=\"-234\" rx=\"82.6131\" ry=\"18\"/>\n",
       "<text text-anchor=\"middle\" x=\"277.1996\" y=\"-229.8\" font-family=\"Times,serif\" font-size=\"14.00\" fill=\"#000000\">random_normal/mul</text>\n",
       "</g>\n",
       "<!-- random_normal/stddev&#45;&gt;random_normal/mul -->\n",
       "<g id=\"edge3\" class=\"edge\">\n",
       "<title>random_normal/stddev&#45;&gt;random_normal/mul</title>\n",
       "<path fill=\"none\" stroke=\"#000000\" d=\"M174.9558,-288.937C193.6137,-278.9118 217.3692,-266.1477 237.2853,-255.4465\"/>\n",
       "<polygon fill=\"#000000\" stroke=\"#000000\" points=\"238.9814,-258.5085 246.1337,-250.6921 235.6681,-252.3422 238.9814,-258.5085\"/>\n",
       "</g>\n",
       "<!-- random_normal/RandomStandardNormal&#45;&gt;random_normal/mul -->\n",
       "<g id=\"edge2\" class=\"edge\">\n",
       "<title>random_normal/RandomStandardNormal&#45;&gt;random_normal/mul</title>\n",
       "<path fill=\"none\" stroke=\"#000000\" d=\"M378.4195,-288.3868C359.9584,-278.4674 336.7591,-266.0021 317.2295,-255.5086\"/>\n",
       "<polygon fill=\"#000000\" stroke=\"#000000\" points=\"318.7259,-252.3394 308.2603,-250.6893 315.4126,-258.5056 318.7259,-252.3394\"/>\n",
       "</g>\n",
       "<!-- random_normal/mul&#45;&gt;random_normal -->\n",
       "<g id=\"edge4\" class=\"edge\">\n",
       "<title>random_normal/mul&#45;&gt;random_normal</title>\n",
       "<path fill=\"none\" stroke=\"#000000\" d=\"M254.2028,-216.5708C241.7427,-207.1273 226.1848,-195.3361 212.7221,-185.1328\"/>\n",
       "<polygon fill=\"#000000\" stroke=\"#000000\" points=\"214.7407,-182.2711 204.6569,-179.0202 210.5125,-187.8499 214.7407,-182.2711\"/>\n",
       "</g>\n",
       "<!-- w/Assign -->\n",
       "<g id=\"node9\" class=\"node\">\n",
       "<title>w/Assign</title>\n",
       "<ellipse fill=\"none\" stroke=\"#000000\" cx=\"198.1996\" cy=\"-90\" rx=\"43.5405\" ry=\"18\"/>\n",
       "<text text-anchor=\"middle\" x=\"198.1996\" y=\"-85.8\" font-family=\"Times,serif\" font-size=\"14.00\" fill=\"#000000\">w/Assign</text>\n",
       "</g>\n",
       "<!-- random_normal&#45;&gt;w/Assign -->\n",
       "<g id=\"edge7\" class=\"edge\">\n",
       "<title>random_normal&#45;&gt;w/Assign</title>\n",
       "<path fill=\"none\" stroke=\"#000000\" d=\"M186.2371,-143.8314C187.9483,-136.131 189.9831,-126.9743 191.8848,-118.4166\"/>\n",
       "<polygon fill=\"#000000\" stroke=\"#000000\" points=\"195.3551,-118.9344 194.1078,-108.4133 188.5218,-117.4159 195.3551,-118.9344\"/>\n",
       "</g>\n",
       "<!-- w -->\n",
       "<g id=\"node8\" class=\"node\">\n",
       "<title>w</title>\n",
       "<ellipse fill=\"none\" stroke=\"#000000\" cx=\"294.1996\" cy=\"-162\" rx=\"27\" ry=\"18\"/>\n",
       "<text text-anchor=\"middle\" x=\"294.1996\" y=\"-157.8\" font-family=\"Times,serif\" font-size=\"14.00\" fill=\"#000000\">w</text>\n",
       "</g>\n",
       "<!-- w&#45;&gt;w/Assign -->\n",
       "<g id=\"edge6\" class=\"edge\">\n",
       "<title>w&#45;&gt;w/Assign</title>\n",
       "<path fill=\"none\" stroke=\"#000000\" d=\"M276.1428,-148.4574C262.5778,-138.2836 243.7007,-124.1258 227.9215,-112.2914\"/>\n",
       "<polygon fill=\"#000000\" stroke=\"#000000\" points=\"229.6275,-109.1959 219.5275,-105.9959 225.4275,-114.7959 229.6275,-109.1959\"/>\n",
       "</g>\n",
       "<!-- w/read -->\n",
       "<g id=\"node10\" class=\"node\">\n",
       "<title>w/read</title>\n",
       "<ellipse fill=\"none\" stroke=\"#000000\" cx=\"294.1996\" cy=\"-90\" rx=\"34.3354\" ry=\"18\"/>\n",
       "<text text-anchor=\"middle\" x=\"294.1996\" y=\"-85.8\" font-family=\"Times,serif\" font-size=\"14.00\" fill=\"#000000\">w/read</text>\n",
       "</g>\n",
       "<!-- w&#45;&gt;w/read -->\n",
       "<g id=\"edge8\" class=\"edge\">\n",
       "<title>w&#45;&gt;w/read</title>\n",
       "<path fill=\"none\" stroke=\"#000000\" d=\"M294.1996,-143.8314C294.1996,-136.131 294.1996,-126.9743 294.1996,-118.4166\"/>\n",
       "<polygon fill=\"#000000\" stroke=\"#000000\" points=\"297.6997,-118.4132 294.1996,-108.4133 290.6997,-118.4133 297.6997,-118.4132\"/>\n",
       "</g>\n",
       "<!-- w/read&#45;&gt;mul -->\n",
       "<g id=\"edge9\" class=\"edge\">\n",
       "<title>w/read&#45;&gt;mul</title>\n",
       "<path fill=\"none\" stroke=\"#000000\" d=\"M274.93,-75.0816C261.0139,-64.3078 242.074,-49.6446 226.875,-37.8777\"/>\n",
       "<polygon fill=\"#000000\" stroke=\"#000000\" points=\"228.9216,-35.0358 218.8717,-31.6816 224.6364,-40.5709 228.9216,-35.0358\"/>\n",
       "</g>\n",
       "<!-- init -->\n",
       "<g id=\"node12\" class=\"node\">\n",
       "<title>init</title>\n",
       "<ellipse fill=\"none\" stroke=\"#000000\" cx=\"613.1996\" cy=\"-306\" rx=\"27\" ry=\"18\"/>\n",
       "<text text-anchor=\"middle\" x=\"613.1996\" y=\"-301.8\" font-family=\"Times,serif\" font-size=\"14.00\" fill=\"#000000\">init</text>\n",
       "</g>\n",
       "<!-- ^w/Assign -->\n",
       "<g id=\"node13\" class=\"node\">\n",
       "<title>^w/Assign</title>\n",
       "<ellipse fill=\"none\" stroke=\"#000000\" cx=\"613.1996\" cy=\"-378\" rx=\"47.8405\" ry=\"18\"/>\n",
       "<text text-anchor=\"middle\" x=\"613.1996\" y=\"-373.8\" font-family=\"Times,serif\" font-size=\"14.00\" fill=\"#000000\">^w/Assign</text>\n",
       "</g>\n",
       "<!-- ^w/Assign&#45;&gt;init -->\n",
       "<g id=\"edge11\" class=\"edge\">\n",
       "<title>^w/Assign&#45;&gt;init</title>\n",
       "<path fill=\"none\" stroke=\"#000000\" d=\"M613.1996,-359.8314C613.1996,-352.131 613.1996,-342.9743 613.1996,-334.4166\"/>\n",
       "<polygon fill=\"#000000\" stroke=\"#000000\" points=\"616.6997,-334.4132 613.1996,-324.4133 609.6997,-334.4133 616.6997,-334.4132\"/>\n",
       "</g>\n",
       "</g>\n",
       "</svg>\n"
      ],
      "text/plain": [
       "<graphviz.dot.Digraph at 0x1221bdef0>"
      ]
     },
     "execution_count": 186,
     "metadata": {},
     "output_type": "execute_result"
    }
   ],
   "source": [
    "tf_to_dot(tf.get_default_graph())"
   ]
  },
  {
   "cell_type": "markdown",
   "metadata": {},
   "source": [
    "### Perceptron v2\n",
    "Random init is too complicated"
   ]
  },
  {
   "cell_type": "code",
   "execution_count": 198,
   "metadata": {},
   "outputs": [],
   "source": [
    "tf.reset_default_graph()"
   ]
  },
  {
   "cell_type": "code",
   "execution_count": 199,
   "metadata": {},
   "outputs": [
    {
     "data": {
      "image/svg+xml": [
       "<?xml version=\"1.0\" encoding=\"UTF-8\" standalone=\"no\"?>\n",
       "<!DOCTYPE svg PUBLIC \"-//W3C//DTD SVG 1.1//EN\"\n",
       " \"http://www.w3.org/Graphics/SVG/1.1/DTD/svg11.dtd\">\n",
       "<!-- Generated by graphviz version 2.40.1 (20161225.0304)\n",
       " -->\n",
       "<!-- Title: %3 Pages: 1 -->\n",
       "<svg width=\"8pt\" height=\"8pt\"\n",
       " viewBox=\"0.00 0.00 8.00 8.00\" xmlns=\"http://www.w3.org/2000/svg\" xmlns:xlink=\"http://www.w3.org/1999/xlink\">\n",
       "<g id=\"graph0\" class=\"graph\" transform=\"scale(1 1) rotate(0) translate(4 4)\">\n",
       "<title>%3</title>\n",
       "<polygon fill=\"#ffffff\" stroke=\"transparent\" points=\"-4,4 -4,-4 4,-4 4,4 -4,4\"/>\n",
       "</g>\n",
       "</svg>\n"
      ],
      "text/plain": [
       "<graphviz.dot.Digraph at 0x1221fcb70>"
      ]
     },
     "execution_count": 199,
     "metadata": {},
     "output_type": "execute_result"
    }
   ],
   "source": [
    "tf_to_dot(tf.get_default_graph())"
   ]
  },
  {
   "cell_type": "code",
   "execution_count": 200,
   "metadata": {},
   "outputs": [
    {
     "name": "stdout",
     "output_type": "stream",
     "text": [
      "Tensor(\"x:0\", shape=(1, 2), dtype=float32)\n"
     ]
    },
    {
     "data": {
      "image/svg+xml": [
       "<?xml version=\"1.0\" encoding=\"UTF-8\" standalone=\"no\"?>\n",
       "<!DOCTYPE svg PUBLIC \"-//W3C//DTD SVG 1.1//EN\"\n",
       " \"http://www.w3.org/Graphics/SVG/1.1/DTD/svg11.dtd\">\n",
       "<!-- Generated by graphviz version 2.40.1 (20161225.0304)\n",
       " -->\n",
       "<!-- Title: %3 Pages: 1 -->\n",
       "<svg width=\"62pt\" height=\"44pt\"\n",
       " viewBox=\"0.00 0.00 62.00 44.00\" xmlns=\"http://www.w3.org/2000/svg\" xmlns:xlink=\"http://www.w3.org/1999/xlink\">\n",
       "<g id=\"graph0\" class=\"graph\" transform=\"scale(1 1) rotate(0) translate(4 40)\">\n",
       "<title>%3</title>\n",
       "<polygon fill=\"#ffffff\" stroke=\"transparent\" points=\"-4,4 -4,-40 58,-40 58,4 -4,4\"/>\n",
       "<!-- x -->\n",
       "<g id=\"node1\" class=\"node\">\n",
       "<title>x</title>\n",
       "<ellipse fill=\"none\" stroke=\"#000000\" cx=\"27\" cy=\"-18\" rx=\"27\" ry=\"18\"/>\n",
       "<text text-anchor=\"middle\" x=\"27\" y=\"-13.8\" font-family=\"Times,serif\" font-size=\"14.00\" fill=\"#000000\">x</text>\n",
       "</g>\n",
       "</g>\n",
       "</svg>\n"
      ],
      "text/plain": [
       "<graphviz.dot.Digraph at 0x122060d30>"
      ]
     },
     "execution_count": 200,
     "metadata": {},
     "output_type": "execute_result"
    }
   ],
   "source": [
    "x = tf.placeholder(tf.float32, [1, 2], name='x')\n",
    "print(x)\n",
    "tf_to_dot(tf.get_default_graph())"
   ]
  },
  {
   "cell_type": "code",
   "execution_count": 201,
   "metadata": {},
   "outputs": [
    {
     "name": "stdout",
     "output_type": "stream",
     "text": [
      "<tf.Variable 'w:0' shape=(1, 2) dtype=float32_ref>\n"
     ]
    },
    {
     "data": {
      "image/svg+xml": [
       "<?xml version=\"1.0\" encoding=\"UTF-8\" standalone=\"no\"?>\n",
       "<!DOCTYPE svg PUBLIC \"-//W3C//DTD SVG 1.1//EN\"\n",
       " \"http://www.w3.org/Graphics/SVG/1.1/DTD/svg11.dtd\">\n",
       "<!-- Generated by graphviz version 2.40.1 (20161225.0304)\n",
       " -->\n",
       "<!-- Title: %3 Pages: 1 -->\n",
       "<svg width=\"237pt\" height=\"116pt\"\n",
       " viewBox=\"0.00 0.00 237.17 116.00\" xmlns=\"http://www.w3.org/2000/svg\" xmlns:xlink=\"http://www.w3.org/1999/xlink\">\n",
       "<g id=\"graph0\" class=\"graph\" transform=\"scale(1 1) rotate(0) translate(4 112)\">\n",
       "<title>%3</title>\n",
       "<polygon fill=\"#ffffff\" stroke=\"transparent\" points=\"-4,4 -4,-112 233.1673,-112 233.1673,4 -4,4\"/>\n",
       "<!-- x -->\n",
       "<g id=\"node1\" class=\"node\">\n",
       "<title>x</title>\n",
       "<ellipse fill=\"none\" stroke=\"#000000\" cx=\"27\" cy=\"-90\" rx=\"27\" ry=\"18\"/>\n",
       "<text text-anchor=\"middle\" x=\"27\" y=\"-85.8\" font-family=\"Times,serif\" font-size=\"14.00\" fill=\"#000000\">x</text>\n",
       "</g>\n",
       "<!-- ones -->\n",
       "<g id=\"node2\" class=\"node\">\n",
       "<title>ones</title>\n",
       "<ellipse fill=\"none\" stroke=\"#000000\" cx=\"99\" cy=\"-90\" rx=\"27\" ry=\"18\"/>\n",
       "<text text-anchor=\"middle\" x=\"99\" y=\"-85.8\" font-family=\"Times,serif\" font-size=\"14.00\" fill=\"#000000\">ones</text>\n",
       "</g>\n",
       "<!-- w/Assign -->\n",
       "<g id=\"node4\" class=\"node\">\n",
       "<title>w/Assign</title>\n",
       "<ellipse fill=\"none\" stroke=\"#000000\" cx=\"99\" cy=\"-18\" rx=\"43.5405\" ry=\"18\"/>\n",
       "<text text-anchor=\"middle\" x=\"99\" y=\"-13.8\" font-family=\"Times,serif\" font-size=\"14.00\" fill=\"#000000\">w/Assign</text>\n",
       "</g>\n",
       "<!-- ones&#45;&gt;w/Assign -->\n",
       "<g id=\"edge2\" class=\"edge\">\n",
       "<title>ones&#45;&gt;w/Assign</title>\n",
       "<path fill=\"none\" stroke=\"#000000\" d=\"M99,-71.8314C99,-64.131 99,-54.9743 99,-46.4166\"/>\n",
       "<polygon fill=\"#000000\" stroke=\"#000000\" points=\"102.5001,-46.4132 99,-36.4133 95.5001,-46.4133 102.5001,-46.4132\"/>\n",
       "</g>\n",
       "<!-- w -->\n",
       "<g id=\"node3\" class=\"node\">\n",
       "<title>w</title>\n",
       "<ellipse fill=\"none\" stroke=\"#000000\" cx=\"183\" cy=\"-90\" rx=\"27\" ry=\"18\"/>\n",
       "<text text-anchor=\"middle\" x=\"183\" y=\"-85.8\" font-family=\"Times,serif\" font-size=\"14.00\" fill=\"#000000\">w</text>\n",
       "</g>\n",
       "<!-- w&#45;&gt;w/Assign -->\n",
       "<g id=\"edge1\" class=\"edge\">\n",
       "<title>w&#45;&gt;w/Assign</title>\n",
       "<path fill=\"none\" stroke=\"#000000\" d=\"M166.4043,-75.7751C154.9218,-65.9329 139.3813,-52.6125 126.116,-41.2423\"/>\n",
       "<polygon fill=\"#000000\" stroke=\"#000000\" points=\"128.0775,-38.3138 118.2071,-34.4632 123.5219,-43.6286 128.0775,-38.3138\"/>\n",
       "</g>\n",
       "<!-- w/read -->\n",
       "<g id=\"node5\" class=\"node\">\n",
       "<title>w/read</title>\n",
       "<ellipse fill=\"none\" stroke=\"#000000\" cx=\"195\" cy=\"-18\" rx=\"34.3354\" ry=\"18\"/>\n",
       "<text text-anchor=\"middle\" x=\"195\" y=\"-13.8\" font-family=\"Times,serif\" font-size=\"14.00\" fill=\"#000000\">w/read</text>\n",
       "</g>\n",
       "<!-- w&#45;&gt;w/read -->\n",
       "<g id=\"edge3\" class=\"edge\">\n",
       "<title>w&#45;&gt;w/read</title>\n",
       "<path fill=\"none\" stroke=\"#000000\" d=\"M186.0281,-71.8314C187.3115,-64.131 188.8376,-54.9743 190.2639,-46.4166\"/>\n",
       "<polygon fill=\"#000000\" stroke=\"#000000\" points=\"193.7394,-46.8526 191.9311,-36.4133 186.8347,-45.7018 193.7394,-46.8526\"/>\n",
       "</g>\n",
       "</g>\n",
       "</svg>\n"
      ],
      "text/plain": [
       "<graphviz.dot.Digraph at 0x122229630>"
      ]
     },
     "execution_count": 201,
     "metadata": {},
     "output_type": "execute_result"
    }
   ],
   "source": [
    "w = tf.Variable(tf.ones([1, 2]), name='w')\n",
    "print(w)\n",
    "tf_to_dot(tf.get_default_graph())"
   ]
  },
  {
   "cell_type": "code",
   "execution_count": 202,
   "metadata": {},
   "outputs": [
    {
     "name": "stdout",
     "output_type": "stream",
     "text": [
      "Tensor(\"mul:0\", shape=(1, 2), dtype=float32)\n"
     ]
    },
    {
     "data": {
      "image/svg+xml": [
       "<?xml version=\"1.0\" encoding=\"UTF-8\" standalone=\"no\"?>\n",
       "<!DOCTYPE svg PUBLIC \"-//W3C//DTD SVG 1.1//EN\"\n",
       " \"http://www.w3.org/Graphics/SVG/1.1/DTD/svg11.dtd\">\n",
       "<!-- Generated by graphviz version 2.40.1 (20161225.0304)\n",
       " -->\n",
       "<!-- Title: %3 Pages: 1 -->\n",
       "<svg width=\"254pt\" height=\"188pt\"\n",
       " viewBox=\"0.00 0.00 254.17 188.00\" xmlns=\"http://www.w3.org/2000/svg\" xmlns:xlink=\"http://www.w3.org/1999/xlink\">\n",
       "<g id=\"graph0\" class=\"graph\" transform=\"scale(1 1) rotate(0) translate(4 184)\">\n",
       "<title>%3</title>\n",
       "<polygon fill=\"#ffffff\" stroke=\"transparent\" points=\"-4,4 -4,-184 250.1673,-184 250.1673,4 -4,4\"/>\n",
       "<!-- x -->\n",
       "<g id=\"node1\" class=\"node\">\n",
       "<title>x</title>\n",
       "<ellipse fill=\"none\" stroke=\"#000000\" cx=\"27\" cy=\"-90\" rx=\"27\" ry=\"18\"/>\n",
       "<text text-anchor=\"middle\" x=\"27\" y=\"-85.8\" font-family=\"Times,serif\" font-size=\"14.00\" fill=\"#000000\">x</text>\n",
       "</g>\n",
       "<!-- mul -->\n",
       "<g id=\"node6\" class=\"node\">\n",
       "<title>mul</title>\n",
       "<ellipse fill=\"none\" stroke=\"#000000\" cx=\"119\" cy=\"-18\" rx=\"27\" ry=\"18\"/>\n",
       "<text text-anchor=\"middle\" x=\"119\" y=\"-13.8\" font-family=\"Times,serif\" font-size=\"14.00\" fill=\"#000000\">mul</text>\n",
       "</g>\n",
       "<!-- x&#45;&gt;mul -->\n",
       "<g id=\"edge4\" class=\"edge\">\n",
       "<title>x&#45;&gt;mul</title>\n",
       "<path fill=\"none\" stroke=\"#000000\" d=\"M44.7385,-76.1177C58.4842,-65.3602 77.7267,-50.3009 93.1797,-38.2072\"/>\n",
       "<polygon fill=\"#000000\" stroke=\"#000000\" points=\"95.598,-40.7591 101.3159,-31.8397 91.2838,-35.2466 95.598,-40.7591\"/>\n",
       "</g>\n",
       "<!-- ones -->\n",
       "<g id=\"node2\" class=\"node\">\n",
       "<title>ones</title>\n",
       "<ellipse fill=\"none\" stroke=\"#000000\" cx=\"116\" cy=\"-162\" rx=\"27\" ry=\"18\"/>\n",
       "<text text-anchor=\"middle\" x=\"116\" y=\"-157.8\" font-family=\"Times,serif\" font-size=\"14.00\" fill=\"#000000\">ones</text>\n",
       "</g>\n",
       "<!-- w/Assign -->\n",
       "<g id=\"node4\" class=\"node\">\n",
       "<title>w/Assign</title>\n",
       "<ellipse fill=\"none\" stroke=\"#000000\" cx=\"116\" cy=\"-90\" rx=\"43.5405\" ry=\"18\"/>\n",
       "<text text-anchor=\"middle\" x=\"116\" y=\"-85.8\" font-family=\"Times,serif\" font-size=\"14.00\" fill=\"#000000\">w/Assign</text>\n",
       "</g>\n",
       "<!-- ones&#45;&gt;w/Assign -->\n",
       "<g id=\"edge2\" class=\"edge\">\n",
       "<title>ones&#45;&gt;w/Assign</title>\n",
       "<path fill=\"none\" stroke=\"#000000\" d=\"M116,-143.8314C116,-136.131 116,-126.9743 116,-118.4166\"/>\n",
       "<polygon fill=\"#000000\" stroke=\"#000000\" points=\"119.5001,-118.4132 116,-108.4133 112.5001,-118.4133 119.5001,-118.4132\"/>\n",
       "</g>\n",
       "<!-- w -->\n",
       "<g id=\"node3\" class=\"node\">\n",
       "<title>w</title>\n",
       "<ellipse fill=\"none\" stroke=\"#000000\" cx=\"200\" cy=\"-162\" rx=\"27\" ry=\"18\"/>\n",
       "<text text-anchor=\"middle\" x=\"200\" y=\"-157.8\" font-family=\"Times,serif\" font-size=\"14.00\" fill=\"#000000\">w</text>\n",
       "</g>\n",
       "<!-- w&#45;&gt;w/Assign -->\n",
       "<g id=\"edge1\" class=\"edge\">\n",
       "<title>w&#45;&gt;w/Assign</title>\n",
       "<path fill=\"none\" stroke=\"#000000\" d=\"M183.4043,-147.7751C171.9218,-137.9329 156.3813,-124.6125 143.116,-113.2423\"/>\n",
       "<polygon fill=\"#000000\" stroke=\"#000000\" points=\"145.0775,-110.3138 135.2071,-106.4632 140.5219,-115.6286 145.0775,-110.3138\"/>\n",
       "</g>\n",
       "<!-- w/read -->\n",
       "<g id=\"node5\" class=\"node\">\n",
       "<title>w/read</title>\n",
       "<ellipse fill=\"none\" stroke=\"#000000\" cx=\"212\" cy=\"-90\" rx=\"34.3354\" ry=\"18\"/>\n",
       "<text text-anchor=\"middle\" x=\"212\" y=\"-85.8\" font-family=\"Times,serif\" font-size=\"14.00\" fill=\"#000000\">w/read</text>\n",
       "</g>\n",
       "<!-- w&#45;&gt;w/read -->\n",
       "<g id=\"edge3\" class=\"edge\">\n",
       "<title>w&#45;&gt;w/read</title>\n",
       "<path fill=\"none\" stroke=\"#000000\" d=\"M203.0281,-143.8314C204.3115,-136.131 205.8376,-126.9743 207.2639,-118.4166\"/>\n",
       "<polygon fill=\"#000000\" stroke=\"#000000\" points=\"210.7394,-118.8526 208.9311,-108.4133 203.8347,-117.7018 210.7394,-118.8526\"/>\n",
       "</g>\n",
       "<!-- w/read&#45;&gt;mul -->\n",
       "<g id=\"edge5\" class=\"edge\">\n",
       "<title>w/read&#45;&gt;mul</title>\n",
       "<path fill=\"none\" stroke=\"#000000\" d=\"M192.7303,-75.0816C178.8143,-64.3078 159.8743,-49.6446 144.6754,-37.8777\"/>\n",
       "<polygon fill=\"#000000\" stroke=\"#000000\" points=\"146.722,-35.0358 136.6721,-31.6816 142.4367,-40.5709 146.722,-35.0358\"/>\n",
       "</g>\n",
       "</g>\n",
       "</svg>\n"
      ],
      "text/plain": [
       "<graphviz.dot.Digraph at 0x1221fca20>"
      ]
     },
     "execution_count": 202,
     "metadata": {},
     "output_type": "execute_result"
    }
   ],
   "source": [
    "y = x * w\n",
    "print(y)\n",
    "tf_to_dot(tf.get_default_graph())"
   ]
  },
  {
   "cell_type": "code",
   "execution_count": 203,
   "metadata": {},
   "outputs": [],
   "source": [
    "init = tf.global_variables_initializer()"
   ]
  },
  {
   "cell_type": "code",
   "execution_count": 205,
   "metadata": {},
   "outputs": [
    {
     "name": "stdout",
     "output_type": "stream",
     "text": [
      "[[ 1.  1.]]\n",
      "[[ 1.  2.]]\n"
     ]
    }
   ],
   "source": [
    "with tf.Session() as sess:\n",
    "    sess.run(init)\n",
    "    w_current = sess.run(w)\n",
    "    a = sess.run(y, feed_dict={x: np.array([[1, 2]])})\n",
    "    print(w_current)\n",
    "    print(a)"
   ]
  },
  {
   "cell_type": "markdown",
   "metadata": {},
   "source": [
    "#### Training"
   ]
  },
  {
   "cell_type": "code",
   "execution_count": 213,
   "metadata": {},
   "outputs": [],
   "source": [
    "tf.reset_default_graph()"
   ]
  },
  {
   "cell_type": "code",
   "execution_count": 214,
   "metadata": {},
   "outputs": [],
   "source": [
    "w = tf.Variable(tf.ones([1, 2]), name='w')\n",
    "delta = tf.constant(value=0.5, shape=[1, 2])"
   ]
  },
  {
   "cell_type": "code",
   "execution_count": 215,
   "metadata": {},
   "outputs": [
    {
     "data": {
      "image/svg+xml": [
       "<?xml version=\"1.0\" encoding=\"UTF-8\" standalone=\"no\"?>\n",
       "<!DOCTYPE svg PUBLIC \"-//W3C//DTD SVG 1.1//EN\"\n",
       " \"http://www.w3.org/Graphics/SVG/1.1/DTD/svg11.dtd\">\n",
       "<!-- Generated by graphviz version 2.40.1 (20161225.0304)\n",
       " -->\n",
       "<!-- Title: %3 Pages: 1 -->\n",
       "<svg width=\"242pt\" height=\"116pt\"\n",
       " viewBox=\"0.00 0.00 242.27 116.00\" xmlns=\"http://www.w3.org/2000/svg\" xmlns:xlink=\"http://www.w3.org/1999/xlink\">\n",
       "<g id=\"graph0\" class=\"graph\" transform=\"scale(1 1) rotate(0) translate(4 112)\">\n",
       "<title>%3</title>\n",
       "<polygon fill=\"#ffffff\" stroke=\"transparent\" points=\"-4,4 -4,-112 238.2676,-112 238.2676,4 -4,4\"/>\n",
       "<!-- ones -->\n",
       "<g id=\"node1\" class=\"node\">\n",
       "<title>ones</title>\n",
       "<ellipse fill=\"none\" stroke=\"#000000\" cx=\"43.5203\" cy=\"-90\" rx=\"27\" ry=\"18\"/>\n",
       "<text text-anchor=\"middle\" x=\"43.5203\" y=\"-85.8\" font-family=\"Times,serif\" font-size=\"14.00\" fill=\"#000000\">ones</text>\n",
       "</g>\n",
       "<!-- w/Assign -->\n",
       "<g id=\"node3\" class=\"node\">\n",
       "<title>w/Assign</title>\n",
       "<ellipse fill=\"none\" stroke=\"#000000\" cx=\"43.5203\" cy=\"-18\" rx=\"43.5405\" ry=\"18\"/>\n",
       "<text text-anchor=\"middle\" x=\"43.5203\" y=\"-13.8\" font-family=\"Times,serif\" font-size=\"14.00\" fill=\"#000000\">w/Assign</text>\n",
       "</g>\n",
       "<!-- ones&#45;&gt;w/Assign -->\n",
       "<g id=\"edge2\" class=\"edge\">\n",
       "<title>ones&#45;&gt;w/Assign</title>\n",
       "<path fill=\"none\" stroke=\"#000000\" d=\"M43.5203,-71.8314C43.5203,-64.131 43.5203,-54.9743 43.5203,-46.4166\"/>\n",
       "<polygon fill=\"#000000\" stroke=\"#000000\" points=\"47.0204,-46.4132 43.5203,-36.4133 40.0204,-46.4133 47.0204,-46.4132\"/>\n",
       "</g>\n",
       "<!-- w -->\n",
       "<g id=\"node2\" class=\"node\">\n",
       "<title>w</title>\n",
       "<ellipse fill=\"none\" stroke=\"#000000\" cx=\"127.5203\" cy=\"-90\" rx=\"27\" ry=\"18\"/>\n",
       "<text text-anchor=\"middle\" x=\"127.5203\" y=\"-85.8\" font-family=\"Times,serif\" font-size=\"14.00\" fill=\"#000000\">w</text>\n",
       "</g>\n",
       "<!-- w&#45;&gt;w/Assign -->\n",
       "<g id=\"edge1\" class=\"edge\">\n",
       "<title>w&#45;&gt;w/Assign</title>\n",
       "<path fill=\"none\" stroke=\"#000000\" d=\"M110.9246,-75.7751C99.442,-65.9329 83.9016,-52.6125 70.6363,-41.2423\"/>\n",
       "<polygon fill=\"#000000\" stroke=\"#000000\" points=\"72.5978,-38.3138 62.7274,-34.4632 68.0422,-43.6286 72.5978,-38.3138\"/>\n",
       "</g>\n",
       "<!-- w/read -->\n",
       "<g id=\"node4\" class=\"node\">\n",
       "<title>w/read</title>\n",
       "<ellipse fill=\"none\" stroke=\"#000000\" cx=\"139.5203\" cy=\"-18\" rx=\"34.3354\" ry=\"18\"/>\n",
       "<text text-anchor=\"middle\" x=\"139.5203\" y=\"-13.8\" font-family=\"Times,serif\" font-size=\"14.00\" fill=\"#000000\">w/read</text>\n",
       "</g>\n",
       "<!-- w&#45;&gt;w/read -->\n",
       "<g id=\"edge3\" class=\"edge\">\n",
       "<title>w&#45;&gt;w/read</title>\n",
       "<path fill=\"none\" stroke=\"#000000\" d=\"M130.5484,-71.8314C131.8318,-64.131 133.3579,-54.9743 134.7842,-46.4166\"/>\n",
       "<polygon fill=\"#000000\" stroke=\"#000000\" points=\"138.2597,-46.8526 136.4514,-36.4133 131.3549,-45.7018 138.2597,-46.8526\"/>\n",
       "</g>\n",
       "<!-- Const -->\n",
       "<g id=\"node5\" class=\"node\">\n",
       "<title>Const</title>\n",
       "<ellipse fill=\"none\" stroke=\"#000000\" cx=\"203.5203\" cy=\"-90\" rx=\"30.9967\" ry=\"18\"/>\n",
       "<text text-anchor=\"middle\" x=\"203.5203\" y=\"-85.8\" font-family=\"Times,serif\" font-size=\"14.00\" fill=\"#000000\">Const</text>\n",
       "</g>\n",
       "</g>\n",
       "</svg>\n"
      ],
      "text/plain": [
       "<graphviz.dot.Digraph at 0x122255860>"
      ]
     },
     "execution_count": 215,
     "metadata": {},
     "output_type": "execute_result"
    }
   ],
   "source": [
    "tf_to_dot(tf.get_default_graph())"
   ]
  },
  {
   "cell_type": "code",
   "execution_count": 216,
   "metadata": {},
   "outputs": [],
   "source": [
    "w += delta"
   ]
  },
  {
   "cell_type": "code",
   "execution_count": 217,
   "metadata": {},
   "outputs": [
    {
     "data": {
      "image/svg+xml": [
       "<?xml version=\"1.0\" encoding=\"UTF-8\" standalone=\"no\"?>\n",
       "<!DOCTYPE svg PUBLIC \"-//W3C//DTD SVG 1.1//EN\"\n",
       " \"http://www.w3.org/Graphics/SVG/1.1/DTD/svg11.dtd\">\n",
       "<!-- Generated by graphviz version 2.40.1 (20161225.0304)\n",
       " -->\n",
       "<!-- Title: %3 Pages: 1 -->\n",
       "<svg width=\"261pt\" height=\"188pt\"\n",
       " viewBox=\"0.00 0.00 261.27 188.00\" xmlns=\"http://www.w3.org/2000/svg\" xmlns:xlink=\"http://www.w3.org/1999/xlink\">\n",
       "<g id=\"graph0\" class=\"graph\" transform=\"scale(1 1) rotate(0) translate(4 184)\">\n",
       "<title>%3</title>\n",
       "<polygon fill=\"#ffffff\" stroke=\"transparent\" points=\"-4,4 -4,-184 257.2676,-184 257.2676,4 -4,4\"/>\n",
       "<!-- ones -->\n",
       "<g id=\"node1\" class=\"node\">\n",
       "<title>ones</title>\n",
       "<ellipse fill=\"none\" stroke=\"#000000\" cx=\"43.5203\" cy=\"-162\" rx=\"27\" ry=\"18\"/>\n",
       "<text text-anchor=\"middle\" x=\"43.5203\" y=\"-157.8\" font-family=\"Times,serif\" font-size=\"14.00\" fill=\"#000000\">ones</text>\n",
       "</g>\n",
       "<!-- w/Assign -->\n",
       "<g id=\"node3\" class=\"node\">\n",
       "<title>w/Assign</title>\n",
       "<ellipse fill=\"none\" stroke=\"#000000\" cx=\"43.5203\" cy=\"-90\" rx=\"43.5405\" ry=\"18\"/>\n",
       "<text text-anchor=\"middle\" x=\"43.5203\" y=\"-85.8\" font-family=\"Times,serif\" font-size=\"14.00\" fill=\"#000000\">w/Assign</text>\n",
       "</g>\n",
       "<!-- ones&#45;&gt;w/Assign -->\n",
       "<g id=\"edge2\" class=\"edge\">\n",
       "<title>ones&#45;&gt;w/Assign</title>\n",
       "<path fill=\"none\" stroke=\"#000000\" d=\"M43.5203,-143.8314C43.5203,-136.131 43.5203,-126.9743 43.5203,-118.4166\"/>\n",
       "<polygon fill=\"#000000\" stroke=\"#000000\" points=\"47.0204,-118.4132 43.5203,-108.4133 40.0204,-118.4133 47.0204,-118.4132\"/>\n",
       "</g>\n",
       "<!-- w -->\n",
       "<g id=\"node2\" class=\"node\">\n",
       "<title>w</title>\n",
       "<ellipse fill=\"none\" stroke=\"#000000\" cx=\"127.5203\" cy=\"-162\" rx=\"27\" ry=\"18\"/>\n",
       "<text text-anchor=\"middle\" x=\"127.5203\" y=\"-157.8\" font-family=\"Times,serif\" font-size=\"14.00\" fill=\"#000000\">w</text>\n",
       "</g>\n",
       "<!-- w&#45;&gt;w/Assign -->\n",
       "<g id=\"edge1\" class=\"edge\">\n",
       "<title>w&#45;&gt;w/Assign</title>\n",
       "<path fill=\"none\" stroke=\"#000000\" d=\"M110.9246,-147.7751C99.442,-137.9329 83.9016,-124.6125 70.6363,-113.2423\"/>\n",
       "<polygon fill=\"#000000\" stroke=\"#000000\" points=\"72.5978,-110.3138 62.7274,-106.4632 68.0422,-115.6286 72.5978,-110.3138\"/>\n",
       "</g>\n",
       "<!-- w/read -->\n",
       "<g id=\"node4\" class=\"node\">\n",
       "<title>w/read</title>\n",
       "<ellipse fill=\"none\" stroke=\"#000000\" cx=\"139.5203\" cy=\"-90\" rx=\"34.3354\" ry=\"18\"/>\n",
       "<text text-anchor=\"middle\" x=\"139.5203\" y=\"-85.8\" font-family=\"Times,serif\" font-size=\"14.00\" fill=\"#000000\">w/read</text>\n",
       "</g>\n",
       "<!-- w&#45;&gt;w/read -->\n",
       "<g id=\"edge3\" class=\"edge\">\n",
       "<title>w&#45;&gt;w/read</title>\n",
       "<path fill=\"none\" stroke=\"#000000\" d=\"M130.5484,-143.8314C131.8318,-136.131 133.3579,-126.9743 134.7842,-118.4166\"/>\n",
       "<polygon fill=\"#000000\" stroke=\"#000000\" points=\"138.2597,-118.8526 136.4514,-108.4133 131.3549,-117.7018 138.2597,-118.8526\"/>\n",
       "</g>\n",
       "<!-- add -->\n",
       "<g id=\"node6\" class=\"node\">\n",
       "<title>add</title>\n",
       "<ellipse fill=\"none\" stroke=\"#000000\" cx=\"180.5203\" cy=\"-18\" rx=\"27\" ry=\"18\"/>\n",
       "<text text-anchor=\"middle\" x=\"180.5203\" y=\"-13.8\" font-family=\"Times,serif\" font-size=\"14.00\" fill=\"#000000\">add</text>\n",
       "</g>\n",
       "<!-- w/read&#45;&gt;add -->\n",
       "<g id=\"edge4\" class=\"edge\">\n",
       "<title>w/read&#45;&gt;add</title>\n",
       "<path fill=\"none\" stroke=\"#000000\" d=\"M149.4452,-72.5708C154.3303,-63.9922 160.3185,-53.4762 165.73,-43.9732\"/>\n",
       "<polygon fill=\"#000000\" stroke=\"#000000\" points=\"168.7797,-45.6905 170.6867,-35.2687 162.6968,-42.2266 168.7797,-45.6905\"/>\n",
       "</g>\n",
       "<!-- Const -->\n",
       "<g id=\"node5\" class=\"node\">\n",
       "<title>Const</title>\n",
       "<ellipse fill=\"none\" stroke=\"#000000\" cx=\"222.5203\" cy=\"-90\" rx=\"30.9967\" ry=\"18\"/>\n",
       "<text text-anchor=\"middle\" x=\"222.5203\" y=\"-85.8\" font-family=\"Times,serif\" font-size=\"14.00\" fill=\"#000000\">Const</text>\n",
       "</g>\n",
       "<!-- Const&#45;&gt;add -->\n",
       "<g id=\"edge5\" class=\"edge\">\n",
       "<title>Const&#45;&gt;add</title>\n",
       "<path fill=\"none\" stroke=\"#000000\" d=\"M212.5669,-72.937C207.4932,-64.2393 201.2169,-53.4799 195.5672,-43.7948\"/>\n",
       "<polygon fill=\"#000000\" stroke=\"#000000\" points=\"198.4642,-41.8148 190.4022,-34.9405 192.4178,-45.3419 198.4642,-41.8148\"/>\n",
       "</g>\n",
       "</g>\n",
       "</svg>\n"
      ],
      "text/plain": [
       "<graphviz.dot.Digraph at 0x122255898>"
      ]
     },
     "execution_count": 217,
     "metadata": {},
     "output_type": "execute_result"
    }
   ],
   "source": [
    "tf_to_dot(tf.get_default_graph())"
   ]
  },
  {
   "cell_type": "code",
   "execution_count": 218,
   "metadata": {},
   "outputs": [],
   "source": [
    "init = tf.global_variables_initializer()"
   ]
  },
  {
   "cell_type": "code",
   "execution_count": 219,
   "metadata": {},
   "outputs": [
    {
     "name": "stdout",
     "output_type": "stream",
     "text": [
      "[[ 1.5  1.5]]\n"
     ]
    }
   ],
   "source": [
    "with tf.Session() as sess:\n",
    "    sess.run(init)\n",
    "    w_current = sess.run(w)\n",
    "    print(w_current)"
   ]
  },
  {
   "cell_type": "code",
   "execution_count": null,
   "metadata": {},
   "outputs": [],
   "source": [
    "# Graph construction\n",
    "# Init\n",
    "# Run"
   ]
  },
  {
   "cell_type": "markdown",
   "metadata": {},
   "source": [
    "https://blog.jakuba.net/2017/05/30/tensorflow-visualization.html"
   ]
  },
  {
   "cell_type": "code",
   "execution_count": null,
   "metadata": {},
   "outputs": [],
   "source": []
  },
  {
   "cell_type": "code",
   "execution_count": null,
   "metadata": {},
   "outputs": [],
   "source": []
  },
  {
   "cell_type": "markdown",
   "metadata": {},
   "source": [
    "### Possible approaches:\n",
    "- Hacker way (try, fail, don't dive deep)\n",
    "- Scientist way (learn abstractly, theory, comprehensive, understand)\n",
    "- Somewhere in between, provide a bit of theory, show and tell, then wrap up with the big picture\n",
    "- Somewhere in between, provide a sketch of the big picture, show and tell with minimal theory, wrap up reiterating the big picture"
   ]
  },
  {
   "cell_type": "markdown",
   "metadata": {},
   "source": [
    "### TensorFlow\n",
    "- why tf?\n",
    "    - Amalgamation of features such as auto-diff, HW agnostic, optimization, \n",
    "    - Decided to do things using a computation graph (vs. what?)\n",
    "        - Upside: \n",
    "        - Downside: \n",
    "    - \n",
    "- span of tasks\n",
    "    - By computation:\n",
    "        - Linear algebra (matrix factorization, tensor multiplication)\n",
    "        - Backprop, NN\n",
    "        - ...\n",
    "    - By task:\n",
    "        - Deep learning training and inference\n",
    "        - PDE?\n",
    "        - Search?\n",
    "        - Matrix factorization\n",
    "        - ...\n",
    "- alternatives? refer to appendix A\n",
    "- HW agnostic (refer to chapter 9)\n",
    "- C++/Python interface\n",
    "- Single and cluster mode (more about this later in this chapter)\n",
    "- XLA/compiler/optimizations\n",
    "- Community: latest papers, methods, architectures built + Google resources\n",
    "- When is TF not the right tool?\n",
    "- \n",
    "\n",
    "### Motivating example\n",
    "- classify X, logistic regression, minimal ML jargon\n",
    "- work through the code\n",
    "\n",
    "### Tensors\n",
    "- what are tensors\n",
    "- examples\n",
    "\n",
    "### The Computation Graph\n",
    "- why use a graph?\n",
    "- how to construct a graph\n",
    "- nodes and edges\n",
    "- operations\n",
    "- sessions, graphs, run, fetch\n",
    "\n",
    "### Wrappers\n",
    "- TFLearn\n",
    "- skflow\n",
    "- keras"
   ]
  }
 ],
 "metadata": {
  "anaconda-cloud": {},
  "kernelspec": {
   "display_name": "Python [default]",
   "language": "python",
   "name": "python3"
  },
  "language_info": {
   "codemirror_mode": {
    "name": "ipython",
    "version": 3
   },
   "file_extension": ".py",
   "mimetype": "text/x-python",
   "name": "python",
   "nbconvert_exporter": "python",
   "pygments_lexer": "ipython3",
   "version": "3.5.4"
  }
 },
 "nbformat": 4,
 "nbformat_minor": 2
}
